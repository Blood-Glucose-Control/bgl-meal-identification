{
 "cells": [
  {
   "cell_type": "markdown",
   "metadata": {},
   "source": [
    "# Change Point Index Creator and Day Splitter"
   ]
  },
  {
   "cell_type": "code",
   "execution_count": 1,
   "metadata": {},
   "outputs": [
    {
     "name": "stdout",
     "output_type": "stream",
     "text": [
      "Loaded DataFrames: ['500030_2024-07-01_2024-09-30.csv', '679372_2024-07-01_2024-09-30.csv']\n"
     ]
    }
   ],
   "source": [
    "import pandas as pd\n",
    "import os\n",
    "import sys\n",
    "sys.path.append(\"..\")\n",
    "\n",
    "os.chdir(\"..\")\n",
    "# List all CSV files in the data/raw directory\n",
    "csv_files = [f for f in os.listdir('data/raw') if f.endswith('.csv')]\n",
    "\n",
    "# ,date,sender_id,bgl,bgl_date_millis,text,template,msg_type,affects_fob,affects_iob,dose_units,food_g,food_glycemic_index,dose_automatic,fp_bgl,message_basal_change,__typename,trend\n",
    "# Define the columns to load\n",
    "columns_to_load = ['date', 'bgl', 'msg_type', 'affects_fob', 'affects_iob','dose_units','food_g','food_glycemic_index']\n",
    "\n",
    "# Load each CSV file into a DataFrame and store them in a dictionary\n",
    "dataframes = {file: pd.read_csv(os.path.join('data/raw', file), usecols=columns_to_load, parse_dates=['date']) for file in csv_files}\n",
    "\n",
    "# Print the names of the loaded DataFrames\n",
    "print(\"Loaded DataFrames:\", list(dataframes.keys()))"
   ]
  },
  {
   "cell_type": "code",
   "execution_count": null,
   "metadata": {},
   "outputs": [
    {
     "data": {
      "text/html": [
       "<div>\n",
       "<style scoped>\n",
       "    .dataframe tbody tr th:only-of-type {\n",
       "        vertical-align: middle;\n",
       "    }\n",
       "\n",
       "    .dataframe tbody tr th {\n",
       "        vertical-align: top;\n",
       "    }\n",
       "\n",
       "    .dataframe thead th {\n",
       "        text-align: right;\n",
       "    }\n",
       "</style>\n",
       "<table border=\"1\" class=\"dataframe\">\n",
       "  <thead>\n",
       "    <tr style=\"text-align: right;\">\n",
       "      <th></th>\n",
       "      <th>date</th>\n",
       "      <th>bgl</th>\n",
       "      <th>msg_type</th>\n",
       "      <th>affects_fob</th>\n",
       "      <th>affects_iob</th>\n",
       "      <th>dose_units</th>\n",
       "      <th>food_g</th>\n",
       "      <th>food_glycemic_index</th>\n",
       "    </tr>\n",
       "  </thead>\n",
       "  <tbody>\n",
       "    <tr>\n",
       "      <th>0</th>\n",
       "      <td>2024-07-01 00:02:32-04:00</td>\n",
       "      <td>115.0</td>\n",
       "      <td>NaN</td>\n",
       "      <td>NaN</td>\n",
       "      <td>NaN</td>\n",
       "      <td>NaN</td>\n",
       "      <td>NaN</td>\n",
       "      <td>NaN</td>\n",
       "    </tr>\n",
       "    <tr>\n",
       "      <th>1</th>\n",
       "      <td>2024-07-01 00:05:33-04:00</td>\n",
       "      <td>112.0</td>\n",
       "      <td>NaN</td>\n",
       "      <td>NaN</td>\n",
       "      <td>NaN</td>\n",
       "      <td>NaN</td>\n",
       "      <td>NaN</td>\n",
       "      <td>NaN</td>\n",
       "    </tr>\n",
       "    <tr>\n",
       "      <th>2</th>\n",
       "      <td>2024-07-01 00:08:33-04:00</td>\n",
       "      <td>116.0</td>\n",
       "      <td>NaN</td>\n",
       "      <td>NaN</td>\n",
       "      <td>NaN</td>\n",
       "      <td>NaN</td>\n",
       "      <td>NaN</td>\n",
       "      <td>NaN</td>\n",
       "    </tr>\n",
       "    <tr>\n",
       "      <th>3</th>\n",
       "      <td>2024-07-01 00:10:34-04:00</td>\n",
       "      <td>121.0</td>\n",
       "      <td>NaN</td>\n",
       "      <td>NaN</td>\n",
       "      <td>NaN</td>\n",
       "      <td>NaN</td>\n",
       "      <td>NaN</td>\n",
       "      <td>NaN</td>\n",
       "    </tr>\n",
       "    <tr>\n",
       "      <th>4</th>\n",
       "      <td>2024-07-01 00:13:36-04:00</td>\n",
       "      <td>122.0</td>\n",
       "      <td>NaN</td>\n",
       "      <td>NaN</td>\n",
       "      <td>NaN</td>\n",
       "      <td>NaN</td>\n",
       "      <td>NaN</td>\n",
       "      <td>NaN</td>\n",
       "    </tr>\n",
       "  </tbody>\n",
       "</table>\n",
       "</div>"
      ],
      "text/plain": [
       "                        date    bgl msg_type affects_fob affects_iob  \\\n",
       "0  2024-07-01 00:02:32-04:00  115.0      NaN         NaN         NaN   \n",
       "1  2024-07-01 00:05:33-04:00  112.0      NaN         NaN         NaN   \n",
       "2  2024-07-01 00:08:33-04:00  116.0      NaN         NaN         NaN   \n",
       "3  2024-07-01 00:10:34-04:00  121.0      NaN         NaN         NaN   \n",
       "4  2024-07-01 00:13:36-04:00  122.0      NaN         NaN         NaN   \n",
       "\n",
       "   dose_units  food_g  food_glycemic_index  \n",
       "0         NaN     NaN                  NaN  \n",
       "1         NaN     NaN                  NaN  \n",
       "2         NaN     NaN                  NaN  \n",
       "3         NaN     NaN                  NaN  \n",
       "4         NaN     NaN                  NaN  "
      ]
     },
     "execution_count": 2,
     "metadata": {},
     "output_type": "execute_result"
    }
   ],
   "source": [
    "cr_df = dataframes['679372_2024-07-01_2024-09-30.csv']\n",
    "cr_df.head()"
   ]
  },
  {
   "cell_type": "code",
   "execution_count": 3,
   "metadata": {},
   "outputs": [
    {
     "data": {
      "text/html": [
       "<div>\n",
       "<style scoped>\n",
       "    .dataframe tbody tr th:only-of-type {\n",
       "        vertical-align: middle;\n",
       "    }\n",
       "\n",
       "    .dataframe tbody tr th {\n",
       "        vertical-align: top;\n",
       "    }\n",
       "\n",
       "    .dataframe thead th {\n",
       "        text-align: right;\n",
       "    }\n",
       "</style>\n",
       "<table border=\"1\" class=\"dataframe\">\n",
       "  <thead>\n",
       "    <tr style=\"text-align: right;\">\n",
       "      <th></th>\n",
       "      <th>date</th>\n",
       "      <th>bgl</th>\n",
       "      <th>msg_type</th>\n",
       "      <th>affects_fob</th>\n",
       "      <th>affects_iob</th>\n",
       "      <th>dose_units</th>\n",
       "      <th>food_g</th>\n",
       "      <th>food_glycemic_index</th>\n",
       "    </tr>\n",
       "  </thead>\n",
       "  <tbody>\n",
       "    <tr>\n",
       "      <th>256</th>\n",
       "      <td>2024-07-01 13:39:01.062000-04:00</td>\n",
       "      <td>135.0</td>\n",
       "      <td>ANNOUNCE_MEAL</td>\n",
       "      <td>True</td>\n",
       "      <td>False</td>\n",
       "      <td>0.0</td>\n",
       "      <td>22.0</td>\n",
       "      <td>0.5</td>\n",
       "    </tr>\n",
       "    <tr>\n",
       "      <th>275</th>\n",
       "      <td>2024-07-01 14:32:31.740000-04:00</td>\n",
       "      <td>157.0</td>\n",
       "      <td>ANNOUNCE_MEAL</td>\n",
       "      <td>True</td>\n",
       "      <td>False</td>\n",
       "      <td>0.0</td>\n",
       "      <td>22.0</td>\n",
       "      <td>0.5</td>\n",
       "    </tr>\n",
       "    <tr>\n",
       "      <th>308</th>\n",
       "      <td>2024-07-01 15:44:35.026000-04:00</td>\n",
       "      <td>223.0</td>\n",
       "      <td>ANNOUNCE_MEAL</td>\n",
       "      <td>True</td>\n",
       "      <td>False</td>\n",
       "      <td>0.0</td>\n",
       "      <td>22.0</td>\n",
       "      <td>0.5</td>\n",
       "    </tr>\n",
       "    <tr>\n",
       "      <th>718</th>\n",
       "      <td>2024-07-02 13:19:08.176000-04:00</td>\n",
       "      <td>102.0</td>\n",
       "      <td>ANNOUNCE_MEAL</td>\n",
       "      <td>True</td>\n",
       "      <td>False</td>\n",
       "      <td>0.0</td>\n",
       "      <td>40.0</td>\n",
       "      <td>0.5</td>\n",
       "    </tr>\n",
       "    <tr>\n",
       "      <th>849</th>\n",
       "      <td>2024-07-02 20:12:00.212000-04:00</td>\n",
       "      <td>97.0</td>\n",
       "      <td>ANNOUNCE_MEAL</td>\n",
       "      <td>True</td>\n",
       "      <td>False</td>\n",
       "      <td>NaN</td>\n",
       "      <td>15.0</td>\n",
       "      <td>0.5</td>\n",
       "    </tr>\n",
       "    <tr>\n",
       "      <th>...</th>\n",
       "      <td>...</td>\n",
       "      <td>...</td>\n",
       "      <td>...</td>\n",
       "      <td>...</td>\n",
       "      <td>...</td>\n",
       "      <td>...</td>\n",
       "      <td>...</td>\n",
       "      <td>...</td>\n",
       "    </tr>\n",
       "    <tr>\n",
       "      <th>39619</th>\n",
       "      <td>2024-09-29 20:44:47.993000-04:00</td>\n",
       "      <td>69.0</td>\n",
       "      <td>ANNOUNCE_MEAL</td>\n",
       "      <td>True</td>\n",
       "      <td>False</td>\n",
       "      <td>NaN</td>\n",
       "      <td>12.0</td>\n",
       "      <td>0.5</td>\n",
       "    </tr>\n",
       "    <tr>\n",
       "      <th>39620</th>\n",
       "      <td>2024-09-29 20:46:03.006000-04:00</td>\n",
       "      <td>69.0</td>\n",
       "      <td>ANNOUNCE_MEAL</td>\n",
       "      <td>True</td>\n",
       "      <td>False</td>\n",
       "      <td>NaN</td>\n",
       "      <td>6.0</td>\n",
       "      <td>0.5</td>\n",
       "    </tr>\n",
       "    <tr>\n",
       "      <th>39641</th>\n",
       "      <td>2024-09-29 21:32:43.092000-04:00</td>\n",
       "      <td>89.0</td>\n",
       "      <td>ANNOUNCE_MEAL</td>\n",
       "      <td>True</td>\n",
       "      <td>False</td>\n",
       "      <td>NaN</td>\n",
       "      <td>6.0</td>\n",
       "      <td>0.5</td>\n",
       "    </tr>\n",
       "    <tr>\n",
       "      <th>39920</th>\n",
       "      <td>2024-09-30 14:18:29.569000-04:00</td>\n",
       "      <td>132.0</td>\n",
       "      <td>ANNOUNCE_MEAL</td>\n",
       "      <td>True</td>\n",
       "      <td>False</td>\n",
       "      <td>NaN</td>\n",
       "      <td>10.0</td>\n",
       "      <td>0.5</td>\n",
       "    </tr>\n",
       "    <tr>\n",
       "      <th>39992</th>\n",
       "      <td>2024-09-30 18:05:18.770000-04:00</td>\n",
       "      <td>99.0</td>\n",
       "      <td>ANNOUNCE_MEAL</td>\n",
       "      <td>True</td>\n",
       "      <td>False</td>\n",
       "      <td>NaN</td>\n",
       "      <td>60.0</td>\n",
       "      <td>0.5</td>\n",
       "    </tr>\n",
       "  </tbody>\n",
       "</table>\n",
       "<p>232 rows × 8 columns</p>\n",
       "</div>"
      ],
      "text/plain": [
       "                                   date    bgl       msg_type affects_fob  \\\n",
       "256    2024-07-01 13:39:01.062000-04:00  135.0  ANNOUNCE_MEAL        True   \n",
       "275    2024-07-01 14:32:31.740000-04:00  157.0  ANNOUNCE_MEAL        True   \n",
       "308    2024-07-01 15:44:35.026000-04:00  223.0  ANNOUNCE_MEAL        True   \n",
       "718    2024-07-02 13:19:08.176000-04:00  102.0  ANNOUNCE_MEAL        True   \n",
       "849    2024-07-02 20:12:00.212000-04:00   97.0  ANNOUNCE_MEAL        True   \n",
       "...                                 ...    ...            ...         ...   \n",
       "39619  2024-09-29 20:44:47.993000-04:00   69.0  ANNOUNCE_MEAL        True   \n",
       "39620  2024-09-29 20:46:03.006000-04:00   69.0  ANNOUNCE_MEAL        True   \n",
       "39641  2024-09-29 21:32:43.092000-04:00   89.0  ANNOUNCE_MEAL        True   \n",
       "39920  2024-09-30 14:18:29.569000-04:00  132.0  ANNOUNCE_MEAL        True   \n",
       "39992  2024-09-30 18:05:18.770000-04:00   99.0  ANNOUNCE_MEAL        True   \n",
       "\n",
       "      affects_iob  dose_units  food_g  food_glycemic_index  \n",
       "256         False         0.0    22.0                  0.5  \n",
       "275         False         0.0    22.0                  0.5  \n",
       "308         False         0.0    22.0                  0.5  \n",
       "718         False         0.0    40.0                  0.5  \n",
       "849         False         NaN    15.0                  0.5  \n",
       "...           ...         ...     ...                  ...  \n",
       "39619       False         NaN    12.0                  0.5  \n",
       "39620       False         NaN     6.0                  0.5  \n",
       "39641       False         NaN     6.0                  0.5  \n",
       "39920       False         NaN    10.0                  0.5  \n",
       "39992       False         NaN    60.0                  0.5  \n",
       "\n",
       "[232 rows x 8 columns]"
      ]
     },
     "execution_count": 3,
     "metadata": {},
     "output_type": "execute_result"
    }
   ],
   "source": [
    "cr_df[cr_df['msg_type'] == 'ANNOUNCE_MEAL']"
   ]
  },
  {
   "cell_type": "code",
   "execution_count": 4,
   "metadata": {},
   "outputs": [],
   "source": [
    "cr_df = cr_df.set_index('date').squeeze()\n",
    "cr_df.index = pd.DatetimeIndex(cr_df.index)"
   ]
  },
  {
   "cell_type": "code",
   "execution_count": 5,
   "metadata": {},
   "outputs": [
    {
     "data": {
      "text/html": [
       "<div>\n",
       "<style scoped>\n",
       "    .dataframe tbody tr th:only-of-type {\n",
       "        vertical-align: middle;\n",
       "    }\n",
       "\n",
       "    .dataframe tbody tr th {\n",
       "        vertical-align: top;\n",
       "    }\n",
       "\n",
       "    .dataframe thead th {\n",
       "        text-align: right;\n",
       "    }\n",
       "</style>\n",
       "<table border=\"1\" class=\"dataframe\">\n",
       "  <thead>\n",
       "    <tr style=\"text-align: right;\">\n",
       "      <th></th>\n",
       "      <th>bgl</th>\n",
       "      <th>msg_type</th>\n",
       "      <th>affects_fob</th>\n",
       "      <th>affects_iob</th>\n",
       "      <th>dose_units</th>\n",
       "      <th>food_g</th>\n",
       "      <th>food_glycemic_index</th>\n",
       "    </tr>\n",
       "    <tr>\n",
       "      <th>date</th>\n",
       "      <th></th>\n",
       "      <th></th>\n",
       "      <th></th>\n",
       "      <th></th>\n",
       "      <th></th>\n",
       "      <th></th>\n",
       "      <th></th>\n",
       "    </tr>\n",
       "  </thead>\n",
       "  <tbody>\n",
       "    <tr>\n",
       "      <th>2024-07-01 13:39:01.062000-04:00</th>\n",
       "      <td>135.0</td>\n",
       "      <td>ANNOUNCE_MEAL</td>\n",
       "      <td>True</td>\n",
       "      <td>False</td>\n",
       "      <td>0.0</td>\n",
       "      <td>22.0</td>\n",
       "      <td>0.5</td>\n",
       "    </tr>\n",
       "    <tr>\n",
       "      <th>2024-07-01 14:32:31.740000-04:00</th>\n",
       "      <td>157.0</td>\n",
       "      <td>ANNOUNCE_MEAL</td>\n",
       "      <td>True</td>\n",
       "      <td>False</td>\n",
       "      <td>0.0</td>\n",
       "      <td>22.0</td>\n",
       "      <td>0.5</td>\n",
       "    </tr>\n",
       "    <tr>\n",
       "      <th>2024-07-01 15:44:35.026000-04:00</th>\n",
       "      <td>223.0</td>\n",
       "      <td>ANNOUNCE_MEAL</td>\n",
       "      <td>True</td>\n",
       "      <td>False</td>\n",
       "      <td>0.0</td>\n",
       "      <td>22.0</td>\n",
       "      <td>0.5</td>\n",
       "    </tr>\n",
       "    <tr>\n",
       "      <th>2024-07-02 13:19:08.176000-04:00</th>\n",
       "      <td>102.0</td>\n",
       "      <td>ANNOUNCE_MEAL</td>\n",
       "      <td>True</td>\n",
       "      <td>False</td>\n",
       "      <td>0.0</td>\n",
       "      <td>40.0</td>\n",
       "      <td>0.5</td>\n",
       "    </tr>\n",
       "    <tr>\n",
       "      <th>2024-07-02 20:12:00.212000-04:00</th>\n",
       "      <td>97.0</td>\n",
       "      <td>ANNOUNCE_MEAL</td>\n",
       "      <td>True</td>\n",
       "      <td>False</td>\n",
       "      <td>NaN</td>\n",
       "      <td>15.0</td>\n",
       "      <td>0.5</td>\n",
       "    </tr>\n",
       "    <tr>\n",
       "      <th>...</th>\n",
       "      <td>...</td>\n",
       "      <td>...</td>\n",
       "      <td>...</td>\n",
       "      <td>...</td>\n",
       "      <td>...</td>\n",
       "      <td>...</td>\n",
       "      <td>...</td>\n",
       "    </tr>\n",
       "    <tr>\n",
       "      <th>2024-09-29 20:44:47.993000-04:00</th>\n",
       "      <td>69.0</td>\n",
       "      <td>ANNOUNCE_MEAL</td>\n",
       "      <td>True</td>\n",
       "      <td>False</td>\n",
       "      <td>NaN</td>\n",
       "      <td>12.0</td>\n",
       "      <td>0.5</td>\n",
       "    </tr>\n",
       "    <tr>\n",
       "      <th>2024-09-29 20:46:03.006000-04:00</th>\n",
       "      <td>69.0</td>\n",
       "      <td>ANNOUNCE_MEAL</td>\n",
       "      <td>True</td>\n",
       "      <td>False</td>\n",
       "      <td>NaN</td>\n",
       "      <td>6.0</td>\n",
       "      <td>0.5</td>\n",
       "    </tr>\n",
       "    <tr>\n",
       "      <th>2024-09-29 21:32:43.092000-04:00</th>\n",
       "      <td>89.0</td>\n",
       "      <td>ANNOUNCE_MEAL</td>\n",
       "      <td>True</td>\n",
       "      <td>False</td>\n",
       "      <td>NaN</td>\n",
       "      <td>6.0</td>\n",
       "      <td>0.5</td>\n",
       "    </tr>\n",
       "    <tr>\n",
       "      <th>2024-09-30 14:18:29.569000-04:00</th>\n",
       "      <td>132.0</td>\n",
       "      <td>ANNOUNCE_MEAL</td>\n",
       "      <td>True</td>\n",
       "      <td>False</td>\n",
       "      <td>NaN</td>\n",
       "      <td>10.0</td>\n",
       "      <td>0.5</td>\n",
       "    </tr>\n",
       "    <tr>\n",
       "      <th>2024-09-30 18:05:18.770000-04:00</th>\n",
       "      <td>99.0</td>\n",
       "      <td>ANNOUNCE_MEAL</td>\n",
       "      <td>True</td>\n",
       "      <td>False</td>\n",
       "      <td>NaN</td>\n",
       "      <td>60.0</td>\n",
       "      <td>0.5</td>\n",
       "    </tr>\n",
       "  </tbody>\n",
       "</table>\n",
       "<p>232 rows × 7 columns</p>\n",
       "</div>"
      ],
      "text/plain": [
       "                                    bgl       msg_type affects_fob  \\\n",
       "date                                                                 \n",
       "2024-07-01 13:39:01.062000-04:00  135.0  ANNOUNCE_MEAL        True   \n",
       "2024-07-01 14:32:31.740000-04:00  157.0  ANNOUNCE_MEAL        True   \n",
       "2024-07-01 15:44:35.026000-04:00  223.0  ANNOUNCE_MEAL        True   \n",
       "2024-07-02 13:19:08.176000-04:00  102.0  ANNOUNCE_MEAL        True   \n",
       "2024-07-02 20:12:00.212000-04:00   97.0  ANNOUNCE_MEAL        True   \n",
       "...                                 ...            ...         ...   \n",
       "2024-09-29 20:44:47.993000-04:00   69.0  ANNOUNCE_MEAL        True   \n",
       "2024-09-29 20:46:03.006000-04:00   69.0  ANNOUNCE_MEAL        True   \n",
       "2024-09-29 21:32:43.092000-04:00   89.0  ANNOUNCE_MEAL        True   \n",
       "2024-09-30 14:18:29.569000-04:00  132.0  ANNOUNCE_MEAL        True   \n",
       "2024-09-30 18:05:18.770000-04:00   99.0  ANNOUNCE_MEAL        True   \n",
       "\n",
       "                                 affects_iob  dose_units  food_g  \\\n",
       "date                                                               \n",
       "2024-07-01 13:39:01.062000-04:00       False         0.0    22.0   \n",
       "2024-07-01 14:32:31.740000-04:00       False         0.0    22.0   \n",
       "2024-07-01 15:44:35.026000-04:00       False         0.0    22.0   \n",
       "2024-07-02 13:19:08.176000-04:00       False         0.0    40.0   \n",
       "2024-07-02 20:12:00.212000-04:00       False         NaN    15.0   \n",
       "...                                      ...         ...     ...   \n",
       "2024-09-29 20:44:47.993000-04:00       False         NaN    12.0   \n",
       "2024-09-29 20:46:03.006000-04:00       False         NaN     6.0   \n",
       "2024-09-29 21:32:43.092000-04:00       False         NaN     6.0   \n",
       "2024-09-30 14:18:29.569000-04:00       False         NaN    10.0   \n",
       "2024-09-30 18:05:18.770000-04:00       False         NaN    60.0   \n",
       "\n",
       "                                  food_glycemic_index  \n",
       "date                                                   \n",
       "2024-07-01 13:39:01.062000-04:00                  0.5  \n",
       "2024-07-01 14:32:31.740000-04:00                  0.5  \n",
       "2024-07-01 15:44:35.026000-04:00                  0.5  \n",
       "2024-07-02 13:19:08.176000-04:00                  0.5  \n",
       "2024-07-02 20:12:00.212000-04:00                  0.5  \n",
       "...                                               ...  \n",
       "2024-09-29 20:44:47.993000-04:00                  0.5  \n",
       "2024-09-29 20:46:03.006000-04:00                  0.5  \n",
       "2024-09-29 21:32:43.092000-04:00                  0.5  \n",
       "2024-09-30 14:18:29.569000-04:00                  0.5  \n",
       "2024-09-30 18:05:18.770000-04:00                  0.5  \n",
       "\n",
       "[232 rows x 7 columns]"
      ]
     },
     "execution_count": 5,
     "metadata": {},
     "output_type": "execute_result"
    }
   ],
   "source": [
    "meal_annoucements_df = cr_df[cr_df['msg_type'] == 'ANNOUNCE_MEAL']\n",
    "meal_annoucements_df\n"
   ]
  },
  {
   "cell_type": "code",
   "execution_count": 6,
   "metadata": {},
   "outputs": [
    {
     "data": {
      "text/html": [
       "<div>\n",
       "<style scoped>\n",
       "    .dataframe tbody tr th:only-of-type {\n",
       "        vertical-align: middle;\n",
       "    }\n",
       "\n",
       "    .dataframe tbody tr th {\n",
       "        vertical-align: top;\n",
       "    }\n",
       "\n",
       "    .dataframe thead th {\n",
       "        text-align: right;\n",
       "    }\n",
       "</style>\n",
       "<table border=\"1\" class=\"dataframe\">\n",
       "  <thead>\n",
       "    <tr style=\"text-align: right;\">\n",
       "      <th></th>\n",
       "      <th>bgl</th>\n",
       "      <th>msg_type</th>\n",
       "      <th>affects_fob</th>\n",
       "      <th>affects_iob</th>\n",
       "      <th>dose_units</th>\n",
       "      <th>food_g</th>\n",
       "      <th>food_glycemic_index</th>\n",
       "    </tr>\n",
       "    <tr>\n",
       "      <th>date</th>\n",
       "      <th></th>\n",
       "      <th></th>\n",
       "      <th></th>\n",
       "      <th></th>\n",
       "      <th></th>\n",
       "      <th></th>\n",
       "      <th></th>\n",
       "    </tr>\n",
       "  </thead>\n",
       "  <tbody>\n",
       "    <tr>\n",
       "      <th>2024-07-01 13:35:00-04:00</th>\n",
       "      <td>135.0</td>\n",
       "      <td>ANNOUNCE_MEAL</td>\n",
       "      <td>True</td>\n",
       "      <td>False</td>\n",
       "      <td>0.0</td>\n",
       "      <td>22.0</td>\n",
       "      <td>0.5</td>\n",
       "    </tr>\n",
       "    <tr>\n",
       "      <th>2024-07-01 13:40:00-04:00</th>\n",
       "      <td>NaN</td>\n",
       "      <td>None</td>\n",
       "      <td>None</td>\n",
       "      <td>None</td>\n",
       "      <td>NaN</td>\n",
       "      <td>NaN</td>\n",
       "      <td>NaN</td>\n",
       "    </tr>\n",
       "    <tr>\n",
       "      <th>2024-07-01 13:45:00-04:00</th>\n",
       "      <td>NaN</td>\n",
       "      <td>None</td>\n",
       "      <td>None</td>\n",
       "      <td>None</td>\n",
       "      <td>NaN</td>\n",
       "      <td>NaN</td>\n",
       "      <td>NaN</td>\n",
       "    </tr>\n",
       "    <tr>\n",
       "      <th>2024-07-01 13:50:00-04:00</th>\n",
       "      <td>NaN</td>\n",
       "      <td>None</td>\n",
       "      <td>None</td>\n",
       "      <td>None</td>\n",
       "      <td>NaN</td>\n",
       "      <td>NaN</td>\n",
       "      <td>NaN</td>\n",
       "    </tr>\n",
       "    <tr>\n",
       "      <th>2024-07-01 13:55:00-04:00</th>\n",
       "      <td>NaN</td>\n",
       "      <td>None</td>\n",
       "      <td>None</td>\n",
       "      <td>None</td>\n",
       "      <td>NaN</td>\n",
       "      <td>NaN</td>\n",
       "      <td>NaN</td>\n",
       "    </tr>\n",
       "    <tr>\n",
       "      <th>...</th>\n",
       "      <td>...</td>\n",
       "      <td>...</td>\n",
       "      <td>...</td>\n",
       "      <td>...</td>\n",
       "      <td>...</td>\n",
       "      <td>...</td>\n",
       "      <td>...</td>\n",
       "    </tr>\n",
       "    <tr>\n",
       "      <th>2024-09-30 17:45:00-04:00</th>\n",
       "      <td>NaN</td>\n",
       "      <td>None</td>\n",
       "      <td>None</td>\n",
       "      <td>None</td>\n",
       "      <td>NaN</td>\n",
       "      <td>NaN</td>\n",
       "      <td>NaN</td>\n",
       "    </tr>\n",
       "    <tr>\n",
       "      <th>2024-09-30 17:50:00-04:00</th>\n",
       "      <td>NaN</td>\n",
       "      <td>None</td>\n",
       "      <td>None</td>\n",
       "      <td>None</td>\n",
       "      <td>NaN</td>\n",
       "      <td>NaN</td>\n",
       "      <td>NaN</td>\n",
       "    </tr>\n",
       "    <tr>\n",
       "      <th>2024-09-30 17:55:00-04:00</th>\n",
       "      <td>NaN</td>\n",
       "      <td>None</td>\n",
       "      <td>None</td>\n",
       "      <td>None</td>\n",
       "      <td>NaN</td>\n",
       "      <td>NaN</td>\n",
       "      <td>NaN</td>\n",
       "    </tr>\n",
       "    <tr>\n",
       "      <th>2024-09-30 18:00:00-04:00</th>\n",
       "      <td>NaN</td>\n",
       "      <td>None</td>\n",
       "      <td>None</td>\n",
       "      <td>None</td>\n",
       "      <td>NaN</td>\n",
       "      <td>NaN</td>\n",
       "      <td>NaN</td>\n",
       "    </tr>\n",
       "    <tr>\n",
       "      <th>2024-09-30 18:05:00-04:00</th>\n",
       "      <td>99.0</td>\n",
       "      <td>ANNOUNCE_MEAL</td>\n",
       "      <td>True</td>\n",
       "      <td>False</td>\n",
       "      <td>NaN</td>\n",
       "      <td>60.0</td>\n",
       "      <td>0.5</td>\n",
       "    </tr>\n",
       "  </tbody>\n",
       "</table>\n",
       "<p>26263 rows × 7 columns</p>\n",
       "</div>"
      ],
      "text/plain": [
       "                             bgl       msg_type affects_fob affects_iob  \\\n",
       "date                                                                      \n",
       "2024-07-01 13:35:00-04:00  135.0  ANNOUNCE_MEAL        True       False   \n",
       "2024-07-01 13:40:00-04:00    NaN           None        None        None   \n",
       "2024-07-01 13:45:00-04:00    NaN           None        None        None   \n",
       "2024-07-01 13:50:00-04:00    NaN           None        None        None   \n",
       "2024-07-01 13:55:00-04:00    NaN           None        None        None   \n",
       "...                          ...            ...         ...         ...   \n",
       "2024-09-30 17:45:00-04:00    NaN           None        None        None   \n",
       "2024-09-30 17:50:00-04:00    NaN           None        None        None   \n",
       "2024-09-30 17:55:00-04:00    NaN           None        None        None   \n",
       "2024-09-30 18:00:00-04:00    NaN           None        None        None   \n",
       "2024-09-30 18:05:00-04:00   99.0  ANNOUNCE_MEAL        True       False   \n",
       "\n",
       "                           dose_units  food_g  food_glycemic_index  \n",
       "date                                                                \n",
       "2024-07-01 13:35:00-04:00         0.0    22.0                  0.5  \n",
       "2024-07-01 13:40:00-04:00         NaN     NaN                  NaN  \n",
       "2024-07-01 13:45:00-04:00         NaN     NaN                  NaN  \n",
       "2024-07-01 13:50:00-04:00         NaN     NaN                  NaN  \n",
       "2024-07-01 13:55:00-04:00         NaN     NaN                  NaN  \n",
       "...                               ...     ...                  ...  \n",
       "2024-09-30 17:45:00-04:00         NaN     NaN                  NaN  \n",
       "2024-09-30 17:50:00-04:00         NaN     NaN                  NaN  \n",
       "2024-09-30 17:55:00-04:00         NaN     NaN                  NaN  \n",
       "2024-09-30 18:00:00-04:00         NaN     NaN                  NaN  \n",
       "2024-09-30 18:05:00-04:00         NaN    60.0                  0.5  \n",
       "\n",
       "[26263 rows x 7 columns]"
      ]
     },
     "execution_count": 6,
     "metadata": {},
     "output_type": "execute_result"
    }
   ],
   "source": [
    "meal_annoucements_df = meal_annoucements_df.resample('5min').first()\n",
    "meal_annoucements_df"
   ]
  },
  {
   "cell_type": "code",
   "execution_count": 7,
   "metadata": {},
   "outputs": [
    {
     "data": {
      "text/html": [
       "<div>\n",
       "<style scoped>\n",
       "    .dataframe tbody tr th:only-of-type {\n",
       "        vertical-align: middle;\n",
       "    }\n",
       "\n",
       "    .dataframe tbody tr th {\n",
       "        vertical-align: top;\n",
       "    }\n",
       "\n",
       "    .dataframe thead th {\n",
       "        text-align: right;\n",
       "    }\n",
       "</style>\n",
       "<table border=\"1\" class=\"dataframe\">\n",
       "  <thead>\n",
       "    <tr style=\"text-align: right;\">\n",
       "      <th></th>\n",
       "      <th>bgl</th>\n",
       "      <th>msg_type</th>\n",
       "      <th>affects_fob</th>\n",
       "      <th>affects_iob</th>\n",
       "      <th>dose_units</th>\n",
       "      <th>food_g</th>\n",
       "      <th>food_glycemic_index</th>\n",
       "    </tr>\n",
       "    <tr>\n",
       "      <th>date</th>\n",
       "      <th></th>\n",
       "      <th></th>\n",
       "      <th></th>\n",
       "      <th></th>\n",
       "      <th></th>\n",
       "      <th></th>\n",
       "      <th></th>\n",
       "    </tr>\n",
       "  </thead>\n",
       "  <tbody>\n",
       "    <tr>\n",
       "      <th>2024-07-01 13:35:00-04:00</th>\n",
       "      <td>135.0</td>\n",
       "      <td>ANNOUNCE_MEAL</td>\n",
       "      <td>True</td>\n",
       "      <td>False</td>\n",
       "      <td>0.0</td>\n",
       "      <td>22.0</td>\n",
       "      <td>0.5</td>\n",
       "    </tr>\n",
       "    <tr>\n",
       "      <th>2024-07-01 14:30:00-04:00</th>\n",
       "      <td>157.0</td>\n",
       "      <td>ANNOUNCE_MEAL</td>\n",
       "      <td>True</td>\n",
       "      <td>False</td>\n",
       "      <td>0.0</td>\n",
       "      <td>22.0</td>\n",
       "      <td>0.5</td>\n",
       "    </tr>\n",
       "    <tr>\n",
       "      <th>2024-07-01 15:40:00-04:00</th>\n",
       "      <td>223.0</td>\n",
       "      <td>ANNOUNCE_MEAL</td>\n",
       "      <td>True</td>\n",
       "      <td>False</td>\n",
       "      <td>0.0</td>\n",
       "      <td>22.0</td>\n",
       "      <td>0.5</td>\n",
       "    </tr>\n",
       "    <tr>\n",
       "      <th>2024-07-02 13:15:00-04:00</th>\n",
       "      <td>102.0</td>\n",
       "      <td>ANNOUNCE_MEAL</td>\n",
       "      <td>True</td>\n",
       "      <td>False</td>\n",
       "      <td>0.0</td>\n",
       "      <td>40.0</td>\n",
       "      <td>0.5</td>\n",
       "    </tr>\n",
       "    <tr>\n",
       "      <th>2024-07-02 20:10:00-04:00</th>\n",
       "      <td>97.0</td>\n",
       "      <td>ANNOUNCE_MEAL</td>\n",
       "      <td>True</td>\n",
       "      <td>False</td>\n",
       "      <td>NaN</td>\n",
       "      <td>15.0</td>\n",
       "      <td>0.5</td>\n",
       "    </tr>\n",
       "    <tr>\n",
       "      <th>...</th>\n",
       "      <td>...</td>\n",
       "      <td>...</td>\n",
       "      <td>...</td>\n",
       "      <td>...</td>\n",
       "      <td>...</td>\n",
       "      <td>...</td>\n",
       "      <td>...</td>\n",
       "    </tr>\n",
       "    <tr>\n",
       "      <th>2024-09-29 20:40:00-04:00</th>\n",
       "      <td>71.0</td>\n",
       "      <td>ANNOUNCE_MEAL</td>\n",
       "      <td>True</td>\n",
       "      <td>False</td>\n",
       "      <td>NaN</td>\n",
       "      <td>6.0</td>\n",
       "      <td>0.5</td>\n",
       "    </tr>\n",
       "    <tr>\n",
       "      <th>2024-09-29 20:45:00-04:00</th>\n",
       "      <td>69.0</td>\n",
       "      <td>ANNOUNCE_MEAL</td>\n",
       "      <td>True</td>\n",
       "      <td>False</td>\n",
       "      <td>NaN</td>\n",
       "      <td>6.0</td>\n",
       "      <td>0.5</td>\n",
       "    </tr>\n",
       "    <tr>\n",
       "      <th>2024-09-29 21:30:00-04:00</th>\n",
       "      <td>89.0</td>\n",
       "      <td>ANNOUNCE_MEAL</td>\n",
       "      <td>True</td>\n",
       "      <td>False</td>\n",
       "      <td>NaN</td>\n",
       "      <td>6.0</td>\n",
       "      <td>0.5</td>\n",
       "    </tr>\n",
       "    <tr>\n",
       "      <th>2024-09-30 14:15:00-04:00</th>\n",
       "      <td>132.0</td>\n",
       "      <td>ANNOUNCE_MEAL</td>\n",
       "      <td>True</td>\n",
       "      <td>False</td>\n",
       "      <td>NaN</td>\n",
       "      <td>10.0</td>\n",
       "      <td>0.5</td>\n",
       "    </tr>\n",
       "    <tr>\n",
       "      <th>2024-09-30 18:05:00-04:00</th>\n",
       "      <td>99.0</td>\n",
       "      <td>ANNOUNCE_MEAL</td>\n",
       "      <td>True</td>\n",
       "      <td>False</td>\n",
       "      <td>NaN</td>\n",
       "      <td>60.0</td>\n",
       "      <td>0.5</td>\n",
       "    </tr>\n",
       "  </tbody>\n",
       "</table>\n",
       "<p>218 rows × 7 columns</p>\n",
       "</div>"
      ],
      "text/plain": [
       "                             bgl       msg_type affects_fob affects_iob  \\\n",
       "date                                                                      \n",
       "2024-07-01 13:35:00-04:00  135.0  ANNOUNCE_MEAL        True       False   \n",
       "2024-07-01 14:30:00-04:00  157.0  ANNOUNCE_MEAL        True       False   \n",
       "2024-07-01 15:40:00-04:00  223.0  ANNOUNCE_MEAL        True       False   \n",
       "2024-07-02 13:15:00-04:00  102.0  ANNOUNCE_MEAL        True       False   \n",
       "2024-07-02 20:10:00-04:00   97.0  ANNOUNCE_MEAL        True       False   \n",
       "...                          ...            ...         ...         ...   \n",
       "2024-09-29 20:40:00-04:00   71.0  ANNOUNCE_MEAL        True       False   \n",
       "2024-09-29 20:45:00-04:00   69.0  ANNOUNCE_MEAL        True       False   \n",
       "2024-09-29 21:30:00-04:00   89.0  ANNOUNCE_MEAL        True       False   \n",
       "2024-09-30 14:15:00-04:00  132.0  ANNOUNCE_MEAL        True       False   \n",
       "2024-09-30 18:05:00-04:00   99.0  ANNOUNCE_MEAL        True       False   \n",
       "\n",
       "                           dose_units  food_g  food_glycemic_index  \n",
       "date                                                                \n",
       "2024-07-01 13:35:00-04:00         0.0    22.0                  0.5  \n",
       "2024-07-01 14:30:00-04:00         0.0    22.0                  0.5  \n",
       "2024-07-01 15:40:00-04:00         0.0    22.0                  0.5  \n",
       "2024-07-02 13:15:00-04:00         0.0    40.0                  0.5  \n",
       "2024-07-02 20:10:00-04:00         NaN    15.0                  0.5  \n",
       "...                               ...     ...                  ...  \n",
       "2024-09-29 20:40:00-04:00         NaN     6.0                  0.5  \n",
       "2024-09-29 20:45:00-04:00         NaN     6.0                  0.5  \n",
       "2024-09-29 21:30:00-04:00         NaN     6.0                  0.5  \n",
       "2024-09-30 14:15:00-04:00         NaN    10.0                  0.5  \n",
       "2024-09-30 18:05:00-04:00         NaN    60.0                  0.5  \n",
       "\n",
       "[218 rows x 7 columns]"
      ]
     },
     "execution_count": 7,
     "metadata": {},
     "output_type": "execute_result"
    }
   ],
   "source": [
    "meal_annoucements_df = meal_annoucements_df[meal_annoucements_df['msg_type'] == 'ANNOUNCE_MEAL']\n",
    "meal_annoucements_df"
   ]
  },
  {
   "cell_type": "code",
   "execution_count": 8,
   "metadata": {},
   "outputs": [
    {
     "name": "stdout",
     "output_type": "stream",
     "text": [
      "                             bgl      msg_type affects_fob affects_iob  \\\n",
      "date                                                                     \n",
      "2024-07-01 13:35:00-04:00  135.0  DOSE_INSULIN       False        True   \n",
      "2024-07-01 14:30:00-04:00  157.0          None        None        None   \n",
      "2024-07-01 15:40:00-04:00  223.0          None        None        None   \n",
      "2024-07-02 13:15:00-04:00  102.0          None        None        None   \n",
      "2024-07-02 20:10:00-04:00   97.0  DOSE_INSULIN       False        True   \n",
      "...                          ...           ...         ...         ...   \n",
      "2024-09-29 20:40:00-04:00   71.0          None        None        None   \n",
      "2024-09-29 20:45:00-04:00   68.0          None        None        None   \n",
      "2024-09-29 21:30:00-04:00   89.0          None        None        None   \n",
      "2024-09-30 14:15:00-04:00  132.0  DOSE_INSULIN       False        True   \n",
      "2024-09-30 18:05:00-04:00   92.0          None        None        None   \n",
      "\n",
      "                           dose_units  food_g  food_glycemic_index  bgl_meal  \\\n",
      "date                                                                           \n",
      "2024-07-01 13:35:00-04:00         1.0     NaN                  NaN     135.0   \n",
      "2024-07-01 14:30:00-04:00         NaN     NaN                  NaN     157.0   \n",
      "2024-07-01 15:40:00-04:00         NaN     NaN                  NaN     223.0   \n",
      "2024-07-02 13:15:00-04:00         NaN     NaN                  NaN     102.0   \n",
      "2024-07-02 20:10:00-04:00         1.0     NaN                  NaN      97.0   \n",
      "...                               ...     ...                  ...       ...   \n",
      "2024-09-29 20:40:00-04:00         NaN     NaN                  NaN      71.0   \n",
      "2024-09-29 20:45:00-04:00         NaN     NaN                  NaN      69.0   \n",
      "2024-09-29 21:30:00-04:00         NaN     NaN                  NaN      89.0   \n",
      "2024-09-30 14:15:00-04:00         1.0     NaN                  NaN     132.0   \n",
      "2024-09-30 18:05:00-04:00         NaN     NaN                  NaN      99.0   \n",
      "\n",
      "                           msg_type_meal affects_fob_meal affects_iob_meal  \\\n",
      "date                                                                         \n",
      "2024-07-01 13:35:00-04:00  ANNOUNCE_MEAL             True            False   \n",
      "2024-07-01 14:30:00-04:00  ANNOUNCE_MEAL             True            False   \n",
      "2024-07-01 15:40:00-04:00  ANNOUNCE_MEAL             True            False   \n",
      "2024-07-02 13:15:00-04:00  ANNOUNCE_MEAL             True            False   \n",
      "2024-07-02 20:10:00-04:00  ANNOUNCE_MEAL             True            False   \n",
      "...                                  ...              ...              ...   \n",
      "2024-09-29 20:40:00-04:00  ANNOUNCE_MEAL             True            False   \n",
      "2024-09-29 20:45:00-04:00  ANNOUNCE_MEAL             True            False   \n",
      "2024-09-29 21:30:00-04:00  ANNOUNCE_MEAL             True            False   \n",
      "2024-09-30 14:15:00-04:00  ANNOUNCE_MEAL             True            False   \n",
      "2024-09-30 18:05:00-04:00  ANNOUNCE_MEAL             True            False   \n",
      "\n",
      "                           dose_units_meal  food_g_meal  \\\n",
      "date                                                      \n",
      "2024-07-01 13:35:00-04:00              0.0         22.0   \n",
      "2024-07-01 14:30:00-04:00              0.0         22.0   \n",
      "2024-07-01 15:40:00-04:00              0.0         22.0   \n",
      "2024-07-02 13:15:00-04:00              0.0         40.0   \n",
      "2024-07-02 20:10:00-04:00              NaN         15.0   \n",
      "...                                    ...          ...   \n",
      "2024-09-29 20:40:00-04:00              NaN          6.0   \n",
      "2024-09-29 20:45:00-04:00              NaN          6.0   \n",
      "2024-09-29 21:30:00-04:00              NaN          6.0   \n",
      "2024-09-30 14:15:00-04:00              NaN         10.0   \n",
      "2024-09-30 18:05:00-04:00              NaN         60.0   \n",
      "\n",
      "                           food_glycemic_index_meal  \n",
      "date                                                 \n",
      "2024-07-01 13:35:00-04:00                       0.5  \n",
      "2024-07-01 14:30:00-04:00                       0.5  \n",
      "2024-07-01 15:40:00-04:00                       0.5  \n",
      "2024-07-02 13:15:00-04:00                       0.5  \n",
      "2024-07-02 20:10:00-04:00                       0.5  \n",
      "...                                             ...  \n",
      "2024-09-29 20:40:00-04:00                       0.5  \n",
      "2024-09-29 20:45:00-04:00                       0.5  \n",
      "2024-09-29 21:30:00-04:00                       0.5  \n",
      "2024-09-30 14:15:00-04:00                       0.5  \n",
      "2024-09-30 18:05:00-04:00                       0.5  \n",
      "\n",
      "[218 rows x 14 columns]\n"
     ]
    }
   ],
   "source": [
    "non_meal_df = cr_df[cr_df['msg_type'] != 'ANNOUNCE_MEAL']\n",
    "non_meal_df = non_meal_df.resample('5min').first()\n",
    "\n",
    "cr_resampled = non_meal_df.join(meal_annoucements_df, how='left', rsuffix='_meal')\n",
    "\n",
    "print(cr_resampled[cr_resampled['msg_type_meal'] == 'ANNOUNCE_MEAL'])\n"
   ]
  },
  {
   "cell_type": "code",
   "execution_count": 9,
   "metadata": {},
   "outputs": [
    {
     "data": {
      "text/plain": [
       "bgl                         159.0\n",
       "msg_type                     None\n",
       "affects_fob                  None\n",
       "affects_iob                  None\n",
       "dose_units                    NaN\n",
       "food_g                        NaN\n",
       "food_glycemic_index           NaN\n",
       "bgl_meal                      NaN\n",
       "msg_type_meal                 NaN\n",
       "affects_fob_meal              NaN\n",
       "affects_iob_meal              NaN\n",
       "dose_units_meal               NaN\n",
       "food_g_meal                   NaN\n",
       "food_glycemic_index_meal      NaN\n",
       "Name: 2024-07-01 14:35:00-04:00, dtype: object"
      ]
     },
     "execution_count": 9,
     "metadata": {},
     "output_type": "execute_result"
    }
   ],
   "source": [
    "cr_resampled.loc['2024-07-01 14:30:00-04:05']"
   ]
  },
  {
   "cell_type": "code",
   "execution_count": 10,
   "metadata": {},
   "outputs": [
    {
     "name": "stdout",
     "output_type": "stream",
     "text": [
      "                             bgl msg_type affects_fob affects_iob  dose_units  \\\n",
      "date                                                                            \n",
      "2024-07-01 00:00:00-04:00  115.0     None        None        None         NaN   \n",
      "2024-07-01 00:05:00-04:00  112.0     None        None        None         NaN   \n",
      "2024-07-01 00:10:00-04:00  121.0     None        None        None         NaN   \n",
      "2024-07-01 00:15:00-04:00  118.0     None        None        None         NaN   \n",
      "2024-07-01 00:20:00-04:00  115.0     None        None        None         NaN   \n",
      "...                          ...      ...         ...         ...         ...   \n",
      "2024-09-30 23:35:00-04:00  113.0     None        None        None         NaN   \n",
      "2024-09-30 23:40:00-04:00  112.0     None        None        None         NaN   \n",
      "2024-09-30 23:45:00-04:00  101.0     None        None        None         NaN   \n",
      "2024-09-30 23:50:00-04:00   96.0     None        None        None         NaN   \n",
      "2024-09-30 23:55:00-04:00  103.0     None        None        None         NaN   \n",
      "\n",
      "                           food_g  food_glycemic_index msg_type_meal  \\\n",
      "date                                                                   \n",
      "2024-07-01 00:00:00-04:00     NaN                  NaN           NaN   \n",
      "2024-07-01 00:05:00-04:00     NaN                  NaN           NaN   \n",
      "2024-07-01 00:10:00-04:00     NaN                  NaN           NaN   \n",
      "2024-07-01 00:15:00-04:00     NaN                  NaN           NaN   \n",
      "2024-07-01 00:20:00-04:00     NaN                  NaN           NaN   \n",
      "...                           ...                  ...           ...   \n",
      "2024-09-30 23:35:00-04:00     NaN                  NaN           NaN   \n",
      "2024-09-30 23:40:00-04:00     NaN                  NaN           NaN   \n",
      "2024-09-30 23:45:00-04:00     NaN                  NaN           NaN   \n",
      "2024-09-30 23:50:00-04:00     NaN                  NaN           NaN   \n",
      "2024-09-30 23:55:00-04:00     NaN                  NaN           NaN   \n",
      "\n",
      "                          affects_fob_meal affects_iob_meal  dose_units_meal  \\\n",
      "date                                                                           \n",
      "2024-07-01 00:00:00-04:00              NaN              NaN              NaN   \n",
      "2024-07-01 00:05:00-04:00              NaN              NaN              NaN   \n",
      "2024-07-01 00:10:00-04:00              NaN              NaN              NaN   \n",
      "2024-07-01 00:15:00-04:00              NaN              NaN              NaN   \n",
      "2024-07-01 00:20:00-04:00              NaN              NaN              NaN   \n",
      "...                                    ...              ...              ...   \n",
      "2024-09-30 23:35:00-04:00              NaN              NaN              NaN   \n",
      "2024-09-30 23:40:00-04:00              NaN              NaN              NaN   \n",
      "2024-09-30 23:45:00-04:00              NaN              NaN              NaN   \n",
      "2024-09-30 23:50:00-04:00              NaN              NaN              NaN   \n",
      "2024-09-30 23:55:00-04:00              NaN              NaN              NaN   \n",
      "\n",
      "                           food_g_meal  food_glycemic_index_meal  \n",
      "date                                                              \n",
      "2024-07-01 00:00:00-04:00          NaN                       NaN  \n",
      "2024-07-01 00:05:00-04:00          NaN                       NaN  \n",
      "2024-07-01 00:10:00-04:00          NaN                       NaN  \n",
      "2024-07-01 00:15:00-04:00          NaN                       NaN  \n",
      "2024-07-01 00:20:00-04:00          NaN                       NaN  \n",
      "...                                ...                       ...  \n",
      "2024-09-30 23:35:00-04:00          NaN                       NaN  \n",
      "2024-09-30 23:40:00-04:00          NaN                       NaN  \n",
      "2024-09-30 23:45:00-04:00          NaN                       NaN  \n",
      "2024-09-30 23:50:00-04:00          NaN                       NaN  \n",
      "2024-09-30 23:55:00-04:00          NaN                       NaN  \n",
      "\n",
      "[26496 rows x 13 columns]\n"
     ]
    }
   ],
   "source": [
    "# Create the new 'bgl' column\n",
    "cr_resampled['bgl'] = cr_resampled['bgl_meal'].combine_first(cr_resampled['bgl'])\n",
    "\n",
    "# Drop the 'bgl_meal' column if it's no longer needed\n",
    "cr_resampled.drop(columns=['bgl_meal'], inplace=True)\n",
    "\n",
    "# Display the updated DataFrame\n",
    "print(cr_resampled)"
   ]
  },
  {
   "cell_type": "code",
   "execution_count": null,
   "metadata": {},
   "outputs": [
    {
     "name": "stdout",
     "output_type": "stream",
     "text": [
      "                             bgl msg_type affects_fob affects_iob  dose_units  \\\n",
      "date                                                                            \n",
      "2024-07-01 00:00:00-04:00  115.0     None        None        None         NaN   \n",
      "2024-07-01 00:05:00-04:00  112.0     None        None        None         NaN   \n",
      "2024-07-01 00:10:00-04:00  121.0     None        None        None         NaN   \n",
      "2024-07-01 00:15:00-04:00  118.0     None        None        None         NaN   \n",
      "2024-07-01 00:20:00-04:00  115.0     None        None        None         NaN   \n",
      "...                          ...      ...         ...         ...         ...   \n",
      "2024-09-30 23:35:00-04:00  113.0     None        None        None         NaN   \n",
      "2024-09-30 23:40:00-04:00  112.0     None        None        None         NaN   \n",
      "2024-09-30 23:45:00-04:00  101.0     None        None        None         NaN   \n",
      "2024-09-30 23:50:00-04:00   96.0     None        None        None         NaN   \n",
      "2024-09-30 23:55:00-04:00  103.0     None        None        None         NaN   \n",
      "\n",
      "                           food_g  food_glycemic_index msg_type_meal  \\\n",
      "date                                                                   \n",
      "2024-07-01 00:00:00-04:00     NaN                  NaN           NaN   \n",
      "2024-07-01 00:05:00-04:00     NaN                  NaN           NaN   \n",
      "2024-07-01 00:10:00-04:00     NaN                  NaN           NaN   \n",
      "2024-07-01 00:15:00-04:00     NaN                  NaN           NaN   \n",
      "2024-07-01 00:20:00-04:00     NaN                  NaN           NaN   \n",
      "...                           ...                  ...           ...   \n",
      "2024-09-30 23:35:00-04:00     NaN                  NaN           NaN   \n",
      "2024-09-30 23:40:00-04:00     NaN                  NaN           NaN   \n",
      "2024-09-30 23:45:00-04:00     NaN                  NaN           NaN   \n",
      "2024-09-30 23:50:00-04:00     NaN                  NaN           NaN   \n",
      "2024-09-30 23:55:00-04:00     NaN                  NaN           NaN   \n",
      "\n",
      "                          affects_fob_meal affects_iob_meal  dose_units_meal  \\\n",
      "date                                                                           \n",
      "2024-07-01 00:00:00-04:00              NaN              NaN              NaN   \n",
      "2024-07-01 00:05:00-04:00              NaN              NaN              NaN   \n",
      "2024-07-01 00:10:00-04:00              NaN              NaN              NaN   \n",
      "2024-07-01 00:15:00-04:00              NaN              NaN              NaN   \n",
      "2024-07-01 00:20:00-04:00              NaN              NaN              NaN   \n",
      "...                                    ...              ...              ...   \n",
      "2024-09-30 23:35:00-04:00              NaN              NaN              NaN   \n",
      "2024-09-30 23:40:00-04:00              NaN              NaN              NaN   \n",
      "2024-09-30 23:45:00-04:00              NaN              NaN              NaN   \n",
      "2024-09-30 23:50:00-04:00              NaN              NaN              NaN   \n",
      "2024-09-30 23:55:00-04:00              NaN              NaN              NaN   \n",
      "\n",
      "                           food_g_meal  food_glycemic_index_meal  \n",
      "date                                                              \n",
      "2024-07-01 00:00:00-04:00          NaN                       NaN  \n",
      "2024-07-01 00:05:00-04:00          NaN                       NaN  \n",
      "2024-07-01 00:10:00-04:00          NaN                       NaN  \n",
      "2024-07-01 00:15:00-04:00          NaN                       NaN  \n",
      "2024-07-01 00:20:00-04:00          NaN                       NaN  \n",
      "...                                ...                       ...  \n",
      "2024-09-30 23:35:00-04:00          NaN                       NaN  \n",
      "2024-09-30 23:40:00-04:00          NaN                       NaN  \n",
      "2024-09-30 23:45:00-04:00          NaN                       NaN  \n",
      "2024-09-30 23:50:00-04:00          NaN                       NaN  \n",
      "2024-09-30 23:55:00-04:00          NaN                       NaN  \n",
      "\n",
      "[26496 rows x 13 columns]\n"
     ]
    }
   ],
   "source": [
    "# Iterate through the DataFrame and update the 'msg_type_meal' column\n",
    "for idx in meal_annoucements_df.index:\n",
    "    if meal_annoucements_df.at[idx, 'msg_type'] == 'ANNOUNCE_MEAL':\n",
    "\n",
    "        end_time = idx + pd.Timedelta(hours=2)\n",
    "        if end_time in cr_resampled.index:\n",
    "            cr_resampled.at[idx, 'msg_type'] = 'ANNOUNCE_MEAL'\n",
    "            cr_resampled.at[end_time, 'msg_type'] = 'MEAL_END'\n",
    "\n",
    "# Display the updated DataFrame\n",
    "print(cr_resampled)"
   ]
  },
  {
   "cell_type": "code",
   "execution_count": 12,
   "metadata": {},
   "outputs": [
    {
     "data": {
      "text/plain": [
       "bgl                                  97.0\n",
       "msg_type                    ANNOUNCE_MEAL\n",
       "affects_fob                         False\n",
       "affects_iob                          True\n",
       "dose_units                            1.0\n",
       "food_g                                NaN\n",
       "food_glycemic_index                   NaN\n",
       "msg_type_meal               ANNOUNCE_MEAL\n",
       "affects_fob_meal                     True\n",
       "affects_iob_meal                    False\n",
       "dose_units_meal                       NaN\n",
       "food_g_meal                          15.0\n",
       "food_glycemic_index_meal              0.5\n",
       "Name: 2024-07-02 20:10:00-04:00, dtype: object"
      ]
     },
     "execution_count": 12,
     "metadata": {},
     "output_type": "execute_result"
    }
   ],
   "source": [
    "cr_resampled.loc['2024-07-02 20:10:00-04:00']"
   ]
  },
  {
   "cell_type": "code",
   "execution_count": 13,
   "metadata": {},
   "outputs": [
    {
     "name": "stdout",
     "output_type": "stream",
     "text": [
      "Timezone: UTC-04:00\n"
     ]
    }
   ],
   "source": [
    "timezone = cr_resampled.index.tz\n",
    "print(f\"Timezone: {timezone}\")"
   ]
  },
  {
   "cell_type": "code",
   "execution_count": 14,
   "metadata": {},
   "outputs": [
    {
     "name": "stdout",
     "output_type": "stream",
     "text": [
      "date\n",
      "2024-07-01 00:00:00-04:00    2024-06-30\n",
      "2024-07-01 00:05:00-04:00    2024-06-30\n",
      "2024-07-01 00:10:00-04:00    2024-06-30\n",
      "2024-07-01 00:15:00-04:00    2024-06-30\n",
      "2024-07-01 00:20:00-04:00    2024-06-30\n",
      "                                ...    \n",
      "2024-07-02 08:55:00-04:00    2024-07-02\n",
      "2024-07-02 09:00:00-04:00    2024-07-02\n",
      "2024-07-02 09:05:00-04:00    2024-07-02\n",
      "2024-07-02 09:10:00-04:00    2024-07-02\n",
      "2024-07-02 09:15:00-04:00    2024-07-02\n",
      "Freq: 5min, Name: day_4am, Length: 400, dtype: object\n"
     ]
    }
   ],
   "source": [
    "cr_resampled['adjusted_date'] = cr_resampled.index - pd.Timedelta(hours=4)\n",
    "cr_resampled['day_4am'] = cr_resampled['adjusted_date'].dt.date\n",
    "print(cr_resampled['day_4am'][:400])"
   ]
  },
  {
   "cell_type": "code",
   "execution_count": 15,
   "metadata": {},
   "outputs": [],
   "source": [
    "cr_resampled = cr_resampled.drop(columns=['affects_fob', 'affects_iob', 'food_glycemic_index', 'adjusted_date', 'msg_type_meal','affects_iob_meal', 'dose_units_meal', 'food_g_meal', 'affects_fob_meal','food_glycemic_index_meal'])"
   ]
  },
  {
   "cell_type": "code",
   "execution_count": 16,
   "metadata": {},
   "outputs": [
    {
     "name": "stdout",
     "output_type": "stream",
     "text": [
      "Day: 2024-06-30\n",
      "48\n",
      "Day: 2024-09-30\n",
      "240\n"
     ]
    }
   ],
   "source": [
    "grouped = cr_resampled.groupby('day_4am')\n",
    "for day, group in grouped:\n",
    "\n",
    "    if len(group) < 288:\n",
    "        print(f\"Day: {day}\")\n",
    "        print(len(group))"
   ]
  },
  {
   "cell_type": "code",
   "execution_count": 17,
   "metadata": {},
   "outputs": [
    {
     "data": {
      "text/plain": [
       "date\n",
       "2024-07-01 00:00:00-04:00    True\n",
       "2024-07-01 00:05:00-04:00    True\n",
       "2024-07-01 00:10:00-04:00    True\n",
       "2024-07-01 00:15:00-04:00    True\n",
       "2024-07-01 00:20:00-04:00    True\n",
       "                             ... \n",
       "2024-09-30 23:35:00-04:00    True\n",
       "2024-09-30 23:40:00-04:00    True\n",
       "2024-09-30 23:45:00-04:00    True\n",
       "2024-09-30 23:50:00-04:00    True\n",
       "2024-09-30 23:55:00-04:00    True\n",
       "Freq: 5min, Name: day_4am, Length: 26496, dtype: bool"
      ]
     },
     "execution_count": 17,
     "metadata": {},
     "output_type": "execute_result"
    }
   ],
   "source": [
    "from datetime import datetime\n",
    "cr_resampled['day_4am'] = pd.to_datetime(cr_resampled['day_4am'])\n",
    "condition1 = cr_resampled['day_4am'] == pd.Timestamp(datetime(2024, 9, 30))\n",
    "condition2 = cr_resampled['day_4am'] == pd.Timestamp(datetime(2024, 6, 30))\n",
    "condition = condition1 | condition2\n",
    "condition"
   ]
  },
  {
   "cell_type": "code",
   "execution_count": 18,
   "metadata": {},
   "outputs": [
    {
     "name": "stdout",
     "output_type": "stream",
     "text": [
      "                             bgl msg_type  dose_units  food_g    day_4am\n",
      "date                                                                    \n",
      "2024-07-01 04:00:00-04:00  112.0     None         NaN     NaN 2024-07-01\n",
      "2024-07-01 04:05:00-04:00  106.0     None         NaN     NaN 2024-07-01\n",
      "2024-07-01 04:10:00-04:00  105.0     None         NaN     NaN 2024-07-01\n",
      "2024-07-01 04:15:00-04:00  107.0     None         NaN     NaN 2024-07-01\n",
      "2024-07-01 04:20:00-04:00  107.0     None         NaN     NaN 2024-07-01\n",
      "...                          ...      ...         ...     ...        ...\n",
      "2024-09-30 03:35:00-04:00  129.0     None         NaN     NaN 2024-09-29\n",
      "2024-09-30 03:40:00-04:00  118.0     None         NaN     NaN 2024-09-29\n",
      "2024-09-30 03:45:00-04:00  122.0     None         NaN     NaN 2024-09-29\n",
      "2024-09-30 03:50:00-04:00  126.0     None         NaN     NaN 2024-09-29\n",
      "2024-09-30 03:55:00-04:00  133.0     None         NaN     NaN 2024-09-29\n",
      "\n",
      "[26208 rows x 5 columns]\n"
     ]
    }
   ],
   "source": [
    "# Drop rows based on the combined condition\n",
    "cr_resampled_filtered = cr_resampled.drop(cr_resampled[condition].index)\n",
    "\n",
    "# Print the resulting DataFrame\n",
    "print(cr_resampled_filtered)"
   ]
  },
  {
   "cell_type": "code",
   "execution_count": 19,
   "metadata": {},
   "outputs": [
    {
     "data": {
      "text/plain": [
       "DatetimeIndex(['2024-07-01 04:00:00-04:00', '2024-07-01 04:05:00-04:00',\n",
       "               '2024-07-01 04:10:00-04:00', '2024-07-01 04:15:00-04:00',\n",
       "               '2024-07-01 04:20:00-04:00', '2024-07-01 04:25:00-04:00',\n",
       "               '2024-07-01 04:30:00-04:00', '2024-07-01 04:35:00-04:00',\n",
       "               '2024-07-01 04:40:00-04:00', '2024-07-01 04:45:00-04:00',\n",
       "               ...\n",
       "               '2024-09-30 03:10:00-04:00', '2024-09-30 03:15:00-04:00',\n",
       "               '2024-09-30 03:20:00-04:00', '2024-09-30 03:25:00-04:00',\n",
       "               '2024-09-30 03:30:00-04:00', '2024-09-30 03:35:00-04:00',\n",
       "               '2024-09-30 03:40:00-04:00', '2024-09-30 03:45:00-04:00',\n",
       "               '2024-09-30 03:50:00-04:00', '2024-09-30 03:55:00-04:00'],\n",
       "              dtype='datetime64[ns, UTC-04:00]', name='date', length=26208, freq=None)"
      ]
     },
     "execution_count": 19,
     "metadata": {},
     "output_type": "execute_result"
    }
   ],
   "source": [
    "cr_resampled_filtered.index"
   ]
  },
  {
   "cell_type": "code",
   "execution_count": 21,
   "metadata": {},
   "outputs": [
    {
     "name": "stdout",
     "output_type": "stream",
     "text": [
      "RangeIndex(start=0, stop=26208, step=1)\n"
     ]
    }
   ],
   "source": [
    "# Assuming cr_resampled_filtered is your DataFrame\n",
    "\n",
    "# Create a new integer index starting at 0\n",
    "new_index = pd.RangeIndex(start=0, stop=len(cr_resampled_filtered), step=1, dtype='int32')\n",
    "\n",
    "# Set the new integer index to the DataFrame\n",
    "cr_resampled_filtered.index = new_index\n",
    "\n",
    "# Now the index is an integer index starting at 0 and of type int32\n",
    "print(cr_resampled_filtered.index)"
   ]
  },
  {
   "cell_type": "markdown",
   "metadata": {},
   "source": [
    "Create first week as a subset."
   ]
  },
  {
   "cell_type": "code",
   "execution_count": 22,
   "metadata": {},
   "outputs": [],
   "source": [
    "three_days = cr_resampled_filtered[:288*3]"
   ]
  },
  {
   "cell_type": "code",
   "execution_count": 23,
   "metadata": {},
   "outputs": [
    {
     "data": {
      "text/plain": [
       "0      112.0\n",
       "1      106.0\n",
       "2      105.0\n",
       "3      107.0\n",
       "4      107.0\n",
       "       ...  \n",
       "859    117.0\n",
       "860    116.0\n",
       "861    116.0\n",
       "862    116.0\n",
       "863    115.0\n",
       "Name: bgl, Length: 864, dtype: float64"
      ]
     },
     "execution_count": 23,
     "metadata": {},
     "output_type": "execute_result"
    }
   ],
   "source": [
    "ts = three_days['bgl']\n",
    "ts"
   ]
  },
  {
   "cell_type": "code",
   "execution_count": 24,
   "metadata": {},
   "outputs": [
    {
     "data": {
      "text/plain": [
       "Index([115, 126, 139, 140, 150, 164, 399, 423, 482, 503, 506, 527, 646, 670,\n",
       "       698, 722, 757, 771, 781, 795],\n",
       "      dtype='int64')"
      ]
     },
     "execution_count": 24,
     "metadata": {},
     "output_type": "execute_result"
    }
   ],
   "source": [
    "condition1 = three_days['msg_type'] == 'MEAL_END'\n",
    "condition2 = three_days['msg_type'] == 'ANNOUNCE_MEAL'\n",
    "condition = condition1 | condition2\n",
    "true_cps = ts[condition].index\n",
    "true_cps"
   ]
  },
  {
   "cell_type": "code",
   "execution_count": 25,
   "metadata": {},
   "outputs": [],
   "source": [
    "import sys\n",
    "\n",
    "sys.path.insert(0, \"..\")\n",
    "\n",
    "import pandas as pd\n",
    "import seaborn as sns\n",
    "\n",
    "sns.set_theme()\n",
    "sns.set_color_codes()\n",
    "\n",
    "from sktime.annotation.clasp import ClaSPSegmentation, find_dominant_window_sizes\n",
    "from sktime.annotation.plotting.utils import (\n",
    "    plot_time_series_with_change_points,\n",
    "    plot_time_series_with_profiles,\n",
    ")\n",
    "from sktime.datasets import load_electric_devices_segmentation"
   ]
  },
  {
   "cell_type": "code",
   "execution_count": 26,
   "metadata": {},
   "outputs": [
    {
     "data": {
      "image/png": "[encoded data removed]",
      "text/plain": [
       "<Figure size 2000x500 with 1 Axes>"
      ]
     },
     "metadata": {},
     "output_type": "display_data"
    }
   ],
   "source": [
    "ts_ex, period_size_ex, true_cps_ex = load_electric_devices_segmentation()\n",
    "_ = plot_time_series_with_change_points(\"Electric Devices\", ts_ex, true_cps_ex)\n"
   ]
  },
  {
   "cell_type": "code",
   "execution_count": 27,
   "metadata": {},
   "outputs": [
    {
     "data": {
      "text/plain": [
       "1       -0.187086\n",
       "2        0.098119\n",
       "3        0.088967\n",
       "4        0.107328\n",
       "5       -0.193514\n",
       "           ...   \n",
       "11528    0.300240\n",
       "11529    0.200745\n",
       "11530   -0.548908\n",
       "11531    0.274886\n",
       "11532    0.274022\n",
       "Name: 1, Length: 11532, dtype: float64"
      ]
     },
     "execution_count": 27,
     "metadata": {},
     "output_type": "execute_result"
    }
   ],
   "source": [
    "ts_ex"
   ]
  },
  {
   "cell_type": "code",
   "execution_count": 28,
   "metadata": {},
   "outputs": [
    {
     "data": {
      "text/plain": [
       "array([1090, 4436, 5712, 7923], dtype=int32)"
      ]
     },
     "execution_count": 28,
     "metadata": {},
     "output_type": "execute_result"
    }
   ],
   "source": [
    "true_cps_ex"
   ]
  },
  {
   "cell_type": "code",
   "execution_count": 29,
   "metadata": {},
   "outputs": [
    {
     "data": {
      "text/plain": [
       "0      112.0\n",
       "1      106.0\n",
       "2      105.0\n",
       "3      107.0\n",
       "4      107.0\n",
       "       ...  \n",
       "859    117.0\n",
       "860    116.0\n",
       "861    116.0\n",
       "862    116.0\n",
       "863    115.0\n",
       "Name: bgl, Length: 864, dtype: float64"
      ]
     },
     "execution_count": 29,
     "metadata": {},
     "output_type": "execute_result"
    }
   ],
   "source": [
    "ts"
   ]
  },
  {
   "cell_type": "code",
   "execution_count": 30,
   "metadata": {},
   "outputs": [
    {
     "data": {
      "text/plain": [
       "Index([115, 126, 139, 140, 150, 164, 399, 423, 482, 503, 506, 527, 646, 670,\n",
       "       698, 722, 757, 771, 781, 795],\n",
       "      dtype='int64')"
      ]
     },
     "execution_count": 30,
     "metadata": {},
     "output_type": "execute_result"
    }
   ],
   "source": [
    "true_cps"
   ]
  },
  {
   "cell_type": "code",
   "execution_count": 33,
   "metadata": {},
   "outputs": [
    {
     "data": {
      "image/png": "[encoded data removed]",
      "text/plain": [
       "<Figure size 2000x500 with 1 Axes>"
      ]
     },
     "metadata": {},
     "output_type": "display_data"
    }
   ],
   "source": [
    "_ = plot_time_series_with_change_points(\"3 Days of Meal Identification using Meal Annoucements + 2hrs\", ts, true_cps)"
   ]
  },
  {
   "cell_type": "code",
   "execution_count": 27,
   "metadata": {},
   "outputs": [
    {
     "data": {
      "text/plain": [
       "1       -0.187086\n",
       "2        0.098119\n",
       "3        0.088967\n",
       "4        0.107328\n",
       "5       -0.193514\n",
       "           ...   \n",
       "11528    0.300240\n",
       "11529    0.200745\n",
       "11530   -0.548908\n",
       "11531    0.274886\n",
       "11532    0.274022\n",
       "Name: 1, Length: 11532, dtype: float64"
      ]
     },
     "execution_count": 27,
     "metadata": {},
     "output_type": "execute_result"
    }
   ],
   "source": [
    "ts_ex"
   ]
  },
  {
   "cell_type": "code",
   "execution_count": 28,
   "metadata": {},
   "outputs": [
    {
     "data": {
      "text/plain": [
       "10"
      ]
     },
     "execution_count": 28,
     "metadata": {},
     "output_type": "execute_result"
    }
   ],
   "source": [
    "period_size_ex"
   ]
  },
  {
   "cell_type": "code",
   "execution_count": 29,
   "metadata": {},
   "outputs": [
    {
     "data": {
      "text/plain": [
       "array([1090, 4436, 5712, 7923], dtype=int32)"
      ]
     },
     "execution_count": 29,
     "metadata": {},
     "output_type": "execute_result"
    }
   ],
   "source": [
    "true_cps_ex"
   ]
  },
  {
   "cell_type": "code",
   "execution_count": 30,
   "metadata": {},
   "outputs": [
    {
     "name": "stdout",
     "output_type": "stream",
     "text": [
      "The found change points are [1038 4525 5719 7883]\n"
     ]
    }
   ],
   "source": [
    "clasp = ClaSPSegmentation(period_length=period_size_ex, n_cps=5)\n",
    "found_cps = clasp.fit_predict(ts_ex)\n",
    "profiles = clasp.profiles\n",
    "scores = clasp.scores\n",
    "print(\"The found change points are\", found_cps.to_numpy())"
   ]
  }
 ],
 "metadata": {
  "kernelspec": {
   "display_name": "meal_identification",
   "language": "python",
   "name": "python3"
  },
  "language_info": {
   "codemirror_mode": {
    "name": "ipython",
    "version": 3
   },
   "file_extension": ".py",
   "mimetype": "text/x-python",
   "name": "python",
   "nbconvert_exporter": "python",
   "pygments_lexer": "ipython3",
   "version": "3.12.7"
  }
 },
 "nbformat": 4,
 "nbformat_minor": 2
}
