{
 "cells": [
  {
   "attachments": {},
   "cell_type": "markdown",
   "metadata": {},
   "source": [
    "Author: Jonathan Gong"
   ]
  },
  {
   "cell_type": "code",
   "execution_count": 14,
   "metadata": {},
   "outputs": [],
   "source": [
    "import pandas as pd\n",
    "import os\n",
    "import sys\n",
    "from sktime.annotation.hmm_learn import GMMHMM \n",
    "import numpy as np"
   ]
  },
  {
   "attachments": {},
   "cell_type": "markdown",
   "metadata": {},
   "source": [
    "# Data processing"
   ]
  },
  {
   "cell_type": "code",
   "execution_count": 7,
   "metadata": {},
   "outputs": [
    {
     "name": "stderr",
     "output_type": "stream",
     "text": [
      "C:\\Users\\jonat\\AppData\\Local\\Temp\\ipykernel_15640\\895166927.py:4: DtypeWarning: Columns (6) have mixed types. Specify dtype option on import or set low_memory=False.\n",
      "  csv_files.append(pd.read_csv(f'../data/raw/{file}'))\n"
     ]
    }
   ],
   "source": [
    "csv_files = []\n",
    "for file in os.listdir('../data/raw'):\n",
    "    if file.endswith('.csv'):\n",
    "        csv_files.append(pd.read_csv(f'../data/raw/{file}'))"
   ]
  },
  {
   "cell_type": "code",
   "execution_count": 8,
   "metadata": {},
   "outputs": [
    {
     "name": "stderr",
     "output_type": "stream",
     "text": [
      "C:\\Users\\jonat\\AppData\\Local\\Temp\\ipykernel_15640\\1612716447.py:4: SettingWithCopyWarning: \n",
      "A value is trying to be set on a copy of a slice from a DataFrame.\n",
      "Try using .loc[row_indexer,col_indexer] = value instead\n",
      "\n",
      "See the caveats in the documentation: https://pandas.pydata.org/pandas-docs/stable/user_guide/indexing.html#returning-a-view-versus-a-copy\n",
      "  each_df[\"date\"] = pd.to_datetime(each_df[\"date\"], format='mixed', utc=True)\n"
     ]
    },
    {
     "name": "stdout",
     "output_type": "stream",
     "text": [
      "                           date    bgl\n",
      "0     2024-07-01 05:02:39+00:00   98.0\n",
      "1     2024-07-01 05:07:39+00:00  100.0\n",
      "2     2024-07-01 05:12:39+00:00   98.0\n",
      "3     2024-07-01 05:17:39+00:00   94.0\n",
      "4     2024-07-01 05:22:40+00:00   94.0\n",
      "...                         ...    ...\n",
      "39622 2024-10-01 04:47:37+00:00   88.0\n",
      "39623 2024-10-01 04:49:38+00:00   90.0\n",
      "39624 2024-10-01 04:53:37+00:00   89.0\n",
      "39625 2024-10-01 04:55:38+00:00   88.0\n",
      "39626 2024-10-01 04:57:37+00:00   88.0\n",
      "\n",
      "[39627 rows x 2 columns]\n",
      "                           date    bgl\n",
      "0     2024-07-01 04:02:32+00:00  115.0\n",
      "1     2024-07-01 04:05:33+00:00  112.0\n",
      "2     2024-07-01 04:08:33+00:00  116.0\n",
      "3     2024-07-01 04:10:34+00:00  121.0\n",
      "4     2024-07-01 04:13:36+00:00  122.0\n",
      "...                         ...    ...\n",
      "40101 2024-10-01 03:43:17+00:00  108.0\n",
      "40102 2024-10-01 03:47:20+00:00  101.0\n",
      "40103 2024-10-01 03:50:22+00:00   96.0\n",
      "40104 2024-10-01 03:54:25+00:00  103.0\n",
      "40105 2024-10-01 03:57:26+00:00  103.0\n",
      "\n",
      "[40106 rows x 2 columns]\n"
     ]
    },
    {
     "name": "stderr",
     "output_type": "stream",
     "text": [
      "C:\\Users\\jonat\\AppData\\Local\\Temp\\ipykernel_15640\\1612716447.py:4: SettingWithCopyWarning: \n",
      "A value is trying to be set on a copy of a slice from a DataFrame.\n",
      "Try using .loc[row_indexer,col_indexer] = value instead\n",
      "\n",
      "See the caveats in the documentation: https://pandas.pydata.org/pandas-docs/stable/user_guide/indexing.html#returning-a-view-versus-a-copy\n",
      "  each_df[\"date\"] = pd.to_datetime(each_df[\"date\"], format='mixed', utc=True)\n"
     ]
    }
   ],
   "source": [
    "each_bgl =[]\n",
    "for file in csv_files:\n",
    "    each_df = file[[\"date\", \"bgl\"]]\n",
    "    each_df[\"date\"] = pd.to_datetime(each_df[\"date\"], format='mixed', utc=True)\n",
    "    print(each_df)\n",
    "    each_bgl.append(each_df.dropna(subset=[\"bgl\"], how='all'))"
   ]
  },
  {
   "cell_type": "code",
   "execution_count": 9,
   "metadata": {},
   "outputs": [
    {
     "data": {
      "text/plain": [
       "[                           date    bgl\n",
       " 0     2024-07-01 05:02:39+00:00   98.0\n",
       " 1     2024-07-01 05:07:39+00:00  100.0\n",
       " 2     2024-07-01 05:12:39+00:00   98.0\n",
       " 3     2024-07-01 05:17:39+00:00   94.0\n",
       " 4     2024-07-01 05:22:40+00:00   94.0\n",
       " ...                         ...    ...\n",
       " 39622 2024-10-01 04:47:37+00:00   88.0\n",
       " 39623 2024-10-01 04:49:38+00:00   90.0\n",
       " 39624 2024-10-01 04:53:37+00:00   89.0\n",
       " 39625 2024-10-01 04:55:38+00:00   88.0\n",
       " 39626 2024-10-01 04:57:37+00:00   88.0\n",
       " \n",
       " [39518 rows x 2 columns],\n",
       "                            date    bgl\n",
       " 0     2024-07-01 04:02:32+00:00  115.0\n",
       " 1     2024-07-01 04:05:33+00:00  112.0\n",
       " 2     2024-07-01 04:08:33+00:00  116.0\n",
       " 3     2024-07-01 04:10:34+00:00  121.0\n",
       " 4     2024-07-01 04:13:36+00:00  122.0\n",
       " ...                         ...    ...\n",
       " 40101 2024-10-01 03:43:17+00:00  108.0\n",
       " 40102 2024-10-01 03:47:20+00:00  101.0\n",
       " 40103 2024-10-01 03:50:22+00:00   96.0\n",
       " 40104 2024-10-01 03:54:25+00:00  103.0\n",
       " 40105 2024-10-01 03:57:26+00:00  103.0\n",
       " \n",
       " [39923 rows x 2 columns]]"
      ]
     },
     "execution_count": 9,
     "metadata": {},
     "output_type": "execute_result"
    }
   ],
   "source": [
    "each_bgl"
   ]
  },
  {
   "cell_type": "code",
   "execution_count": 10,
   "metadata": {},
   "outputs": [
    {
     "name": "stderr",
     "output_type": "stream",
     "text": [
      "C:\\Users\\jonat\\AppData\\Local\\Temp\\ipykernel_15640\\2013028078.py:4: SettingWithCopyWarning: \n",
      "A value is trying to be set on a copy of a slice from a DataFrame.\n",
      "Try using .loc[row_indexer,col_indexer] = value instead\n",
      "\n",
      "See the caveats in the documentation: https://pandas.pydata.org/pandas-docs/stable/user_guide/indexing.html#returning-a-view-versus-a-copy\n",
      "  bgl['time'] = bgl['date'].dt.time\n",
      "C:\\Users\\jonat\\AppData\\Local\\Temp\\ipykernel_15640\\2013028078.py:6: SettingWithCopyWarning: \n",
      "A value is trying to be set on a copy of a slice from a DataFrame.\n",
      "Try using .loc[row_indexer,col_indexer] = value instead\n",
      "\n",
      "See the caveats in the documentation: https://pandas.pydata.org/pandas-docs/stable/user_guide/indexing.html#returning-a-view-versus-a-copy\n",
      "  bgl['day'] = bgl['date'].dt.date\n"
     ]
    }
   ],
   "source": [
    "days_patients = []\n",
    "for bgl in each_bgl:\n",
    "    # (hour:minute:second)\n",
    "    bgl['time'] = bgl['date'].dt.time\n",
    "    # (year-month-day)\n",
    "    bgl['day'] = bgl['date'].dt.date\n",
    "    # unique days\n",
    "    unique_days = bgl['day'].unique()\n",
    "    day_data = []\n",
    "    for i, day in enumerate(unique_days):\n",
    "        bgl_day = bgl[bgl['day'] == day]\n",
    "        day_data.append(bgl_day[\"bgl\"])\n",
    "\n",
    "    days_patients.append(day_data)"
   ]
  },
  {
   "cell_type": "code",
   "execution_count": 11,
   "metadata": {},
   "outputs": [],
   "source": [
    "sequences = days_patients[0]\n",
    "sequences = np.concatenate(sequences)"
   ]
  },
  {
   "cell_type": "code",
   "execution_count": 12,
   "metadata": {},
   "outputs": [
    {
     "data": {
      "text/plain": [
       "array([ 98., 100.,  98., ...,  89.,  88.,  88.])"
      ]
     },
     "execution_count": 12,
     "metadata": {},
     "output_type": "execute_result"
    }
   ],
   "source": [
    "sequences\n"
   ]
  },
  {
   "cell_type": "code",
   "execution_count": 15,
   "metadata": {},
   "outputs": [
    {
     "ename": "ModuleNotFoundError",
     "evalue": "No module named 'hmmlearn'",
     "output_type": "error",
     "traceback": [
      "\u001b[1;31m---------------------------------------------------------------------------\u001b[0m",
      "\u001b[1;31mModuleNotFoundError\u001b[0m                       Traceback (most recent call last)",
      "Cell \u001b[1;32mIn[15], line 2\u001b[0m\n\u001b[0;32m      1\u001b[0m model \u001b[38;5;241m=\u001b[39m GMMHMM(n_components\u001b[38;5;241m=\u001b[39m\u001b[38;5;241m2\u001b[39m, n_mix\u001b[38;5;241m=\u001b[39m\u001b[38;5;241m2\u001b[39m) \n\u001b[1;32m----> 2\u001b[0m model \u001b[38;5;241m=\u001b[39m \u001b[43mmodel\u001b[49m\u001b[38;5;241;43m.\u001b[39;49m\u001b[43mfit\u001b[49m\u001b[43m(\u001b[49m\u001b[43msequences\u001b[49m\u001b[43m)\u001b[49m \n",
      "File \u001b[1;32mc:\\Users\\jonat\\Documents\\Code\\WAT.ai\\bg_control-1\\0_meal_identification\\meal_identification\\venv\\Lib\\site-packages\\sktime\\annotation\\base\\_base.py:153\u001b[0m, in \u001b[0;36mBaseSeriesAnnotator.fit\u001b[1;34m(self, X, Y)\u001b[0m\n\u001b[0;32m    149\u001b[0m \u001b[38;5;28mself\u001b[39m\u001b[38;5;241m.\u001b[39m_Y \u001b[38;5;241m=\u001b[39m Y\n\u001b[0;32m    151\u001b[0m \u001b[38;5;66;03m# fkiraly: insert checks/conversions here, after PR #1012 I suggest\u001b[39;00m\n\u001b[1;32m--> 153\u001b[0m \u001b[38;5;28;43mself\u001b[39;49m\u001b[38;5;241;43m.\u001b[39;49m\u001b[43m_fit\u001b[49m\u001b[43m(\u001b[49m\u001b[43mX\u001b[49m\u001b[38;5;241;43m=\u001b[39;49m\u001b[43mX\u001b[49m\u001b[43m,\u001b[49m\u001b[43m \u001b[49m\u001b[43mY\u001b[49m\u001b[38;5;241;43m=\u001b[39;49m\u001b[43mY\u001b[49m\u001b[43m)\u001b[49m\n\u001b[0;32m    155\u001b[0m \u001b[38;5;66;03m# this should happen last\u001b[39;00m\n\u001b[0;32m    156\u001b[0m \u001b[38;5;28mself\u001b[39m\u001b[38;5;241m.\u001b[39m_is_fitted \u001b[38;5;241m=\u001b[39m \u001b[38;5;28;01mTrue\u001b[39;00m\n",
      "File \u001b[1;32mc:\\Users\\jonat\\Documents\\Code\\WAT.ai\\bg_control-1\\0_meal_identification\\meal_identification\\venv\\Lib\\site-packages\\sktime\\annotation\\hmm_learn\\gmm.py:155\u001b[0m, in \u001b[0;36mGMMHMM._fit\u001b[1;34m(self, X, Y)\u001b[0m\n\u001b[0;32m    153\u001b[0m \u001b[38;5;28;01mdef\u001b[39;00m \u001b[38;5;21m_fit\u001b[39m(\u001b[38;5;28mself\u001b[39m, X, Y\u001b[38;5;241m=\u001b[39m\u001b[38;5;28;01mNone\u001b[39;00m):\n\u001b[0;32m    154\u001b[0m     \u001b[38;5;66;03m# import inside _fit to avoid hard dependency.\u001b[39;00m\n\u001b[1;32m--> 155\u001b[0m     \u001b[38;5;28;01mfrom\u001b[39;00m \u001b[38;5;21;01mhmmlearn\u001b[39;00m\u001b[38;5;21;01m.\u001b[39;00m\u001b[38;5;21;01mhmm\u001b[39;00m \u001b[38;5;28;01mimport\u001b[39;00m GMMHMM \u001b[38;5;28;01mas\u001b[39;00m _GMMHMM\n\u001b[0;32m    157\u001b[0m     \u001b[38;5;28mself\u001b[39m\u001b[38;5;241m.\u001b[39m_hmm_estimator \u001b[38;5;241m=\u001b[39m _GMMHMM(\n\u001b[0;32m    158\u001b[0m         \u001b[38;5;28mself\u001b[39m\u001b[38;5;241m.\u001b[39mn_components,\n\u001b[0;32m    159\u001b[0m         \u001b[38;5;28mself\u001b[39m\u001b[38;5;241m.\u001b[39mn_mix,\n\u001b[1;32m   (...)\u001b[0m\n\u001b[0;32m    176\u001b[0m         \u001b[38;5;28mself\u001b[39m\u001b[38;5;241m.\u001b[39mimplementation,\n\u001b[0;32m    177\u001b[0m     )\n\u001b[0;32m    178\u001b[0m     \u001b[38;5;28;01mreturn\u001b[39;00m \u001b[38;5;28msuper\u001b[39m()\u001b[38;5;241m.\u001b[39m_fit(X, Y)\n",
      "\u001b[1;31mModuleNotFoundError\u001b[0m: No module named 'hmmlearn'"
     ]
    }
   ],
   "source": [
    "model = GMMHMM(n_components=2, n_mix=2) \n",
    "model = model.fit(sequences) "
   ]
  }
 ],
 "metadata": {
  "kernelspec": {
   "display_name": "venv",
   "language": "python",
   "name": "python3"
  },
  "language_info": {
   "codemirror_mode": {
    "name": "ipython",
    "version": 3
   },
   "file_extension": ".py",
   "mimetype": "text/x-python",
   "name": "python",
   "nbconvert_exporter": "python",
   "pygments_lexer": "ipython3",
   "version": "3.12.5"
  },
  "orig_nbformat": 4
 },
 "nbformat": 4,
 "nbformat_minor": 2
}
