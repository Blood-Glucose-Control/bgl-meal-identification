{
 "cells": [
  {
   "attachments": {},
   "cell_type": "markdown",
   "metadata": {},
   "source": [
    "Author: Jonathan Gong"
   ]
  },
  {
   "cell_type": "code",
   "execution_count": 7,
   "metadata": {},
   "outputs": [],
   "source": [
    "import pandas as pd\n",
    "import os\n",
    "import sys\n",
    "from sktime.annotation.hmm_learn import GMMHMM \n",
    "import numpy as np"
   ]
  },
  {
   "attachments": {},
   "cell_type": "markdown",
   "metadata": {},
   "source": [
    "# Data processing"
   ]
  },
  {
   "cell_type": "code",
   "execution_count": 16,
   "metadata": {},
   "outputs": [
    {
     "name": "stderr",
     "output_type": "stream",
     "text": [
      "/var/folders/22/0fj82gz10j5cvdcxtqcw5yc80000gn/T/ipykernel_61427/895166927.py:4: DtypeWarning: Columns (6) have mixed types. Specify dtype option on import or set low_memory=False.\n",
      "  csv_files.append(pd.read_csv(f'../data/raw/{file}'))\n"
     ]
    }
   ],
   "source": [
    "csv_files = []\n",
    "for file in os.listdir('../data/raw'):\n",
    "    if file.endswith('.csv'):\n",
    "        csv_files.append(pd.read_csv(f'../data/raw/{file}'))"
   ]
  },
  {
   "cell_type": "code",
   "execution_count": 19,
   "metadata": {},
   "outputs": [
    {
     "name": "stderr",
     "output_type": "stream",
     "text": [
      "/var/folders/22/0fj82gz10j5cvdcxtqcw5yc80000gn/T/ipykernel_61427/872985159.py:4: SettingWithCopyWarning: \n",
      "A value is trying to be set on a copy of a slice from a DataFrame.\n",
      "Try using .loc[row_indexer,col_indexer] = value instead\n",
      "\n",
      "See the caveats in the documentation: https://pandas.pydata.org/pandas-docs/stable/user_guide/indexing.html#returning-a-view-versus-a-copy\n",
      "  each_df[\"date\"] = pd.to_datetime(each_df[\"date\"], format='mixed', utc=True)\n",
      "/var/folders/22/0fj82gz10j5cvdcxtqcw5yc80000gn/T/ipykernel_61427/872985159.py:4: SettingWithCopyWarning: \n",
      "A value is trying to be set on a copy of a slice from a DataFrame.\n",
      "Try using .loc[row_indexer,col_indexer] = value instead\n",
      "\n",
      "See the caveats in the documentation: https://pandas.pydata.org/pandas-docs/stable/user_guide/indexing.html#returning-a-view-versus-a-copy\n",
      "  each_df[\"date\"] = pd.to_datetime(each_df[\"date\"], format='mixed', utc=True)\n"
     ]
    }
   ],
   "source": [
    "each_bgl =[]\n",
    "for file in csv_files:\n",
    "    each_df = file[[\"date\", \"bgl\"]]\n",
    "    each_df[\"date\"] = pd.to_datetime(each_df[\"date\"], format='mixed', utc=True)\n",
    "    each_bgl.append(each_df.dropna(subset=each_df.columns[:4], how='all'))"
   ]
  },
  {
   "cell_type": "code",
   "execution_count": 20,
   "metadata": {},
   "outputs": [],
   "source": [
    "days_patients = []\n",
    "for bgl in each_bgl:\n",
    "    # (hour:minute:second)\n",
    "    bgl['time'] = bgl['date'].dt.time\n",
    "    # (year-month-day)\n",
    "    bgl['day'] = bgl['date'].dt.date\n",
    "    # unique days\n",
    "    unique_days = bgl['day'].unique()\n",
    "    day_data = []\n",
    "    for i, day in enumerate(unique_days):\n",
    "        bgl_day = bgl[bgl['day'] == day]\n",
    "        day_data.append(bgl_day[\"bgl\"])\n",
    "\n",
    "    days_patients.append(day_data)"
   ]
  },
  {
   "cell_type": "code",
   "execution_count": 29,
   "metadata": {},
   "outputs": [],
   "source": [
    "sequences = days_patients[0]\n",
    "sequences = np.concatenate(sequences)\n",
    "sequences = sequences[~np.isnan(sequences)]"
   ]
  },
  {
   "cell_type": "code",
   "execution_count": 30,
   "metadata": {},
   "outputs": [
    {
     "data": {
      "text/plain": [
       "array([ 98., 100.,  98., ...,  89.,  88.,  88.])"
      ]
     },
     "execution_count": 30,
     "metadata": {},
     "output_type": "execute_result"
    }
   ],
   "source": [
    "sequences\n"
   ]
  },
  {
   "cell_type": "code",
   "execution_count": 31,
   "metadata": {},
   "outputs": [
    {
     "name": "stderr",
     "output_type": "stream",
     "text": [
      "Model is not converging.  Current: -183579.8275463407 is not greater than -178807.85189297324. Delta is -4771.975653367466\n"
     ]
    }
   ],
   "source": [
    "model = GMMHMM(n_components=2, n_mix=2) \n",
    "model = model.fit(sequences) "
   ]
  }
 ],
 "metadata": {
  "kernelspec": {
   "display_name": "venv",
   "language": "python",
   "name": "python3"
  },
  "language_info": {
   "codemirror_mode": {
    "name": "ipython",
    "version": 3
   },
   "file_extension": ".py",
   "mimetype": "text/x-python",
   "name": "python",
   "nbconvert_exporter": "python",
   "pygments_lexer": "ipython3",
   "version": "3.12.6"
  },
  "orig_nbformat": 4
 },
 "nbformat": 4,
 "nbformat_minor": 2
}
