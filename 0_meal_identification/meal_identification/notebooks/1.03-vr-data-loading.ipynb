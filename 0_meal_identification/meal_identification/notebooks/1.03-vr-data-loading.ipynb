{
 "cells": [
  {
   "cell_type": "code",
   "execution_count": null,
   "metadata": {},
   "outputs": [],
   "source": [
    "import pandas as pd\n",
    "import os\n",
    "\n",
    "def load_datasets(\n",
    "        data_dir: str='../data/interim'\n",
    "        ) -> dict[str, list[pd.DataFrame]]:\n",
    "    '''\n",
    "    Loads all the data from the provided (default interm) folder and returns a dictionary with patient ids as keys and lists of dataframes as values.\n",
    "    ---\n",
    "    Parameters:\n",
    "        data_dir: str\n",
    "            The directory where the data is stored. Finds and loads all the csv files in the directory.\n",
    "    ---\n",
    "    Returns:\n",
    "        dataframes_by_patient: dict[str, list[pd.DataFrame]]\n",
    "            A dictionary with patient ids as keys and lists of dataframes as values.\n",
    "            Eg:\n",
    "                {\n",
    "                    'patientId1': [df1, df2, df3],\n",
    "                    'patientId2': [df4, df5],\n",
    "                    ...\n",
    "                }\n",
    "    '''\n",
    "    csv_files = [f for f in os.listdir(data_dir) if f.endswith('.csv')]\n",
    "    dataframes_by_patient = {}\n",
    "    for file in csv_files:\n",
    "\n",
    "        # skip meal annotation file for now\n",
    "        if file == \"meal_annotation_plus_2hr_meal.csv\":\n",
    "            continue\n",
    "\n",
    "        df = pd.read_csv(os.path.join(data_dir, file))\n",
    "        patient_id = file.split('_')[1]\n",
    "        if patient_id not in dataframes_by_patient.keys():\n",
    "            dataframes_by_patient[patient_id] = []\n",
    "\n",
    "        dataframes_by_patient[patient_id].append(df)\n",
    "\n",
    "    return dataframes_by_patient\n"
   ]
  }
 ],
 "metadata": {
  "language_info": {
   "name": "python"
  }
 },
 "nbformat": 4,
 "nbformat_minor": 2
}
