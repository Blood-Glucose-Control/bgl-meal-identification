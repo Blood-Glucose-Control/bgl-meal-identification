{
 "cells": [
  {
   "cell_type": "markdown",
   "metadata": {},
   "source": [
    "from sktime.annotation.adapters import PyODAnnotator\n",
    "\n",
    "from pyod.models.iforest import IForest\n",
    "\n",
    "from sktime.datasets import load_airline\n",
    "\n",
    "y = load_airline()\n",
    "\n",
    "pyod_model = IForest()\n",
    "\n",
    "pyod_sktime_annotator = PyODAnnotator(pyod_model)\n",
    "\n",
    "pyod_sktime_annotator.fit(y)\n",
    "\n",
    "annotated_series = pyod_sktime_annotator.predict(y)"
   ]
  }
 ],
 "metadata": {
  "language_info": {
   "name": "python"
  }
 },
 "nbformat": 4,
 "nbformat_minor": 2
}
