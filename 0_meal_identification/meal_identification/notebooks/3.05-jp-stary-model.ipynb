{
 "cells": [
  {
   "cell_type": "markdown",
   "metadata": {},
   "source": [
    "# Junwon (Paul) Park"
   ]
  },
  {
   "cell_type": "markdown",
   "metadata": {},
   "source": [
    "https://www.sktime.net/en/stable/api_reference/auto_generated/sktime.annotation.stray.STRAY.html"
   ]
  },
  {
   "cell_type": "markdown",
   "metadata": {},
   "source": [
    "https://cookiecutter-data-science.drivendata.org/using-the-template/#open-a-notebook"
   ]
  },
  {
   "cell_type": "code",
   "execution_count": 2,
   "metadata": {},
   "outputs": [],
   "source": [
    "import pandas as pd"
   ]
  },
  {
   "cell_type": "markdown",
   "metadata": {},
   "source": [
    "# Importing Data"
   ]
  },
  {
   "cell_type": "code",
   "execution_count": 16,
   "metadata": {},
   "outputs": [],
   "source": [
    "# running data preprocessing notebook to use its methods\n",
    "%run \"1.02-vr-ggs-data-preprocessing.ipynb\"  # Use quotes here"
   ]
  },
  {
   "cell_type": "code",
   "execution_count": 46,
   "metadata": {},
   "outputs": [
    {
     "name": "stdout",
     "output_type": "stream",
     "text": [
      "Loaded data from 2 files.\n"
     ]
    },
    {
     "name": "stderr",
     "output_type": "stream",
     "text": [
      "C:\\Users\\06pau\\AppData\\Local\\Temp\\ipykernel_3272\\1750412534.py:15: DtypeWarning: Columns (6) have mixed types. Specify dtype option on import or set low_memory=False.\n",
      "  df = pd.read_csv(os.path.join(data_dir, file), usecols=columns_to_load, parse_dates=date_parse_columns)\n"
     ]
    }
   ],
   "source": [
    "columns_to_load = [\n",
    "    'date', 'sender_id', 'bgl', 'bgl_date_millis', 'text', 'template', 'msg_type', \n",
    "    'affects_fob', 'affects_iob', 'dose_units', 'food_g', 'food_glycemic_index', \n",
    "    'dose_automatic', 'fp_bgl', 'message_basal_change', '__typename', 'trend'\n",
    "]\n",
    "\n",
    "# Call load_data with specified columns\n",
    "df_list = load_data(\n",
    "    data_dir='../data/raw',  # Replace with your actual directory path\n",
    "    columns_to_load=columns_to_load,\n",
    "    date_parse_columns=['date']\n",
    ")\n"
   ]
  },
  {
   "cell_type": "code",
   "execution_count": 47,
   "metadata": {},
   "outputs": [],
   "source": [
    "df_500030 = df_list[0]\n",
    "df_679372 = df_list[1]"
   ]
  },
  {
   "cell_type": "code",
   "execution_count": 49,
   "metadata": {},
   "outputs": [],
   "source": [
    "df_679372_processed = preprocess_data(df_679372)"
   ]
  },
  {
   "cell_type": "code",
   "execution_count": 51,
   "metadata": {},
   "outputs": [
    {
     "name": "stdout",
     "output_type": "stream",
     "text": [
      "<class 'pandas.core.frame.DataFrame'>\n",
      "DatetimeIndex: 39174 entries, 2024-07-01 04:02:32+00:00 to 2024-10-01 03:57:26+00:00\n",
      "Data columns (total 16 columns):\n",
      " #   Column                       Non-Null Count  Dtype  \n",
      "---  ------                       --------------  -----  \n",
      " 0   sender_id                    39174 non-null  float64\n",
      " 1   bgl                          39174 non-null  float64\n",
      " 2   bgl_date_millis              39174 non-null  float64\n",
      " 3   text                         39174 non-null  object \n",
      " 4   template                     39174 non-null  object \n",
      " 5   affects_fob                  39174 non-null  int64  \n",
      " 6   affects_iob                  39174 non-null  int64  \n",
      " 7   dose_units                   39174 non-null  float64\n",
      " 8   food_g                       39174 non-null  float64\n",
      " 9   food_glycemic_index          39174 non-null  float64\n",
      " 10  dose_automatic               39174 non-null  object \n",
      " 11  fp_bgl                       39174 non-null  float64\n",
      " 12  message_basal_change         39174 non-null  float64\n",
      " 13  __typename                   39174 non-null  object \n",
      " 14  trend                        39174 non-null  object \n",
      " 15  msg_type_INTERVENTION_SNACK  39174 non-null  float64\n",
      "dtypes: float64(9), int64(2), object(5)\n",
      "memory usage: 5.1+ MB\n"
     ]
    }
   ],
   "source": [
    "df_679372_processed.info()"
   ]
  }
 ],
 "metadata": {
  "kernelspec": {
   "display_name": "Python 3",
   "language": "python",
   "name": "python3"
  },
  "language_info": {
   "codemirror_mode": {
    "name": "ipython",
    "version": 3
   },
   "file_extension": ".py",
   "mimetype": "text/x-python",
   "name": "python",
   "nbconvert_exporter": "python",
   "pygments_lexer": "ipython3",
   "version": "3.12.2"
  }
 },
 "nbformat": 4,
 "nbformat_minor": 2
}
