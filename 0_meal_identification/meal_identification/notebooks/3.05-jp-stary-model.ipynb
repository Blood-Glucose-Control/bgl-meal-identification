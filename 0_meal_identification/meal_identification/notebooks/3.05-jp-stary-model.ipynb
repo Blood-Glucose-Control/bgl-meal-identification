{
 "cells": [
  {
   "cell_type": "markdown",
   "metadata": {},
   "source": [
    "# Junwon (Paul) Park"
   ]
  },
  {
   "cell_type": "markdown",
   "metadata": {},
   "source": [
    "https://www.sktime.net/en/stable/api_reference/auto_generated/sktime.annotation.stray.STRAY.html"
   ]
  },
  {
   "cell_type": "markdown",
   "metadata": {},
   "source": [
    "https://cookiecutter-data-science.drivendata.org/using-the-template/#open-a-notebook"
   ]
  },
  {
   "cell_type": "code",
   "execution_count": 45,
   "metadata": {},
   "outputs": [],
   "source": [
    "import pandas as pd"
   ]
  },
  {
   "cell_type": "markdown",
   "metadata": {},
   "source": [
    "# Importing Data"
   ]
  },
  {
   "cell_type": "code",
   "execution_count": 46,
   "metadata": {},
   "outputs": [],
   "source": [
    "# running data preprocessing notebook to use its methods\n",
    "%run \"1.02-vr-ggs-data-preprocessing.ipynb\"  # Use quotes here"
   ]
  },
  {
   "cell_type": "code",
   "execution_count": 47,
   "metadata": {},
   "outputs": [
    {
     "name": "stdout",
     "output_type": "stream",
     "text": [
      "Loaded data from 2 files.\n"
     ]
    },
    {
     "name": "stderr",
     "output_type": "stream",
     "text": [
      "C:\\Users\\06pau\\AppData\\Local\\Temp\\ipykernel_7780\\1750412534.py:15: DtypeWarning: Columns (6) have mixed types. Specify dtype option on import or set low_memory=False.\n",
      "  df = pd.read_csv(os.path.join(data_dir, file), usecols=columns_to_load, parse_dates=date_parse_columns)\n"
     ]
    }
   ],
   "source": [
    "columns_to_load = [\n",
    "    'date', 'sender_id', 'bgl', 'bgl_date_millis', 'text', 'template', 'msg_type', \n",
    "    'affects_fob', 'affects_iob', 'dose_units', 'food_g', 'food_glycemic_index', \n",
    "    'dose_automatic', 'fp_bgl', 'message_basal_change', '__typename', 'trend'\n",
    "]\n",
    "\n",
    "# Call load_data with specified columns\n",
    "df_list = load_data(\n",
    "    data_dir='../data/raw',  # Replace with your actual directory path\n",
    "    columns_to_load=columns_to_load,\n",
    "    date_parse_columns=['date']\n",
    ")\n"
   ]
  },
  {
   "cell_type": "code",
   "execution_count": 48,
   "metadata": {},
   "outputs": [],
   "source": [
    "df_500030 = df_list[0]\n",
    "df_679372 = df_list[1]"
   ]
  },
  {
   "cell_type": "markdown",
   "metadata": {},
   "source": [
    "# Storing Meal times and other message times into df"
   ]
  },
  {
   "cell_type": "code",
   "execution_count": 49,
   "metadata": {},
   "outputs": [],
   "source": [
    "def filter_meal_related_events(df):\n",
    "    \"\"\"\n",
    "    Filter the DataFrame to include only rows where 'msg_type' matches specific meal-related events.\n",
    "    \n",
    "    Parameters:\n",
    "    - df : DataFrame, the original DataFrame containing a 'msg_type' column.\n",
    "    \n",
    "    Returns:\n",
    "    - filtered_df : DataFrame, filtered to include only meal-related events with relevant dates.\n",
    "    \"\"\"\n",
    "    # List of relevant meal-related events\n",
    "    relevant_msg_types = ['ANNOUNCE_MEAL', 'INTERVENTION_SNACK', 'ANNOUNCE_EXERCISE', 'DOSE_INSULIN', 'DOSE_BASAL_INSULIN']\n",
    "    \n",
    "    # Filter DataFrame to include only rows with relevant 'msg_type' values\n",
    "    filtered_df = df[df['msg_type'].isin(relevant_msg_types)].copy()\n",
    "    \n",
    "    # Ensure 'date' column is in datetime format if not already converted\n",
    "    filtered_df['date'] = pd.to_datetime(filtered_df['date'], errors='coerce', utc=True)\n",
    "    \n",
    "    # Drop any rows with invalid or missing dates\n",
    "    filtered_df.dropna(subset=['date'], inplace=True)\n",
    "    \n",
    "    # Sort by date and reset index\n",
    "    filtered_df = filtered_df.sort_values('date').reset_index(drop=True)\n",
    "    \n",
    "    return filtered_df\n"
   ]
  },
  {
   "cell_type": "code",
   "execution_count": 50,
   "metadata": {},
   "outputs": [],
   "source": [
    "# this data frame will help us validate meal times, we can validate our model using this data by checking if selected date is an actual meal time?\n",
    "df_actual = filter_meal_related_events(df_679372) "
   ]
  },
  {
   "cell_type": "markdown",
   "metadata": {},
   "source": [
    "# Cleaned and pre processed data"
   ]
  },
  {
   "cell_type": "code",
   "execution_count": 51,
   "metadata": {},
   "outputs": [],
   "source": [
    "df_679372_processed = preprocess_data(df_679372)"
   ]
  },
  {
   "cell_type": "markdown",
   "metadata": {},
   "source": [
    "# Model Traning"
   ]
  },
  {
   "cell_type": "markdown",
   "metadata": {},
   "source": [
    "## Step1: Identify Relevant Features for STRAY MODEL\n",
    "\n",
    "### Relevant Columns:\n",
    "\n",
    "`bgl`: The main variable representing blood glucose levels, which could show spikes or patterns around meals.\n",
    "\n",
    "`dose_units`: Insulin doses often correlate with meals (especially bolus doses) to manage postprandial glucose levels.\n",
    "\n",
    "`food_g`: The amount of carbohydrates, where non-zero values likely indicate meals or snacks.\n",
    "\n",
    "`food_glycemic_index`: Helps distinguish between regular meals and higher-glycemic foods (like snacks). 0.5 for regular meal announcements, or 1 for INTERVENTION_SNACKS\n",
    "\n",
    "`affects_fob` or `affects_iob`: fob -> food on board, iob -> insuline on board. \n",
    "\n",
    "`trend`: Indicates the direction of blood glucose change rate, which could help capture sharp rises or falls associated with meals.\n",
    "\n",
    "### Improvement:\n",
    "\n",
    "Potentially do a better feature selection, currently I wanted to testout how the STRAY model works with multiple explanatory variables thus I have selected to work with the columns specified above."
   ]
  },
  {
   "cell_type": "code",
   "execution_count": 61,
   "metadata": {},
   "outputs": [],
   "source": [
    "def prepare_data_for_stray(df):\n",
    "    \"\"\"\n",
    "    Prepare the DataFrame by selecting relevant columns for STRAY anomaly detection model.\n",
    "    \n",
    "    Parameters:\n",
    "    - df : DataFrame, the original DataFrame.\n",
    "    \n",
    "    Returns:\n",
    "    - df_for_stray : DataFrame, with selected columns and necessary preprocessing applied.\n",
    "    \"\"\"\n",
    "    # Select columns that are relevant for detecting meal-related anomalies\n",
    "    df_for_stray = df[['bgl', 'dose_units', 'food_g', 'food_glycemic_index', \n",
    "                       'affects_fob', 'affects_iob', 'trend']]\n",
    "    \n",
    "    # Convert any categorical variables to numeric if needed\n",
    "    # For example, encoding 'trend' as numbers (e.g., FLAT=0, SINGLE_UP=1, etc.)\n",
    "    trend_mapping = {'FLAT': 0, 'SINGLE_UP': 1, 'DOUBLE_UP': 2, 'FORTYFIVE_UP': 3, \n",
    "                     'FORTYFIVE_DOWN': -1, 'DOUBLE_DOWN': -2, 'NOT_COMPUTABLE': None}\n",
    "    df_for_stray['trend'] = df_for_stray['trend'].map(trend_mapping)\n",
    "    \n",
    "    # Drop rows with nulls if necessary\n",
    "    df_for_stray.dropna(inplace=True)\n",
    "    \n",
    "    return df_for_stray"
   ]
  },
  {
   "cell_type": "code",
   "execution_count": 62,
   "metadata": {},
   "outputs": [
    {
     "name": "stderr",
     "output_type": "stream",
     "text": [
      "C:\\Users\\06pau\\AppData\\Local\\Temp\\ipykernel_7780\\2667450639.py:19: SettingWithCopyWarning: \n",
      "A value is trying to be set on a copy of a slice from a DataFrame.\n",
      "Try using .loc[row_indexer,col_indexer] = value instead\n",
      "\n",
      "See the caveats in the documentation: https://pandas.pydata.org/pandas-docs/stable/user_guide/indexing.html#returning-a-view-versus-a-copy\n",
      "  df_for_stray['trend'] = df_for_stray['trend'].map(trend_mapping)\n",
      "C:\\Users\\06pau\\AppData\\Local\\Temp\\ipykernel_7780\\2667450639.py:22: SettingWithCopyWarning: \n",
      "A value is trying to be set on a copy of a slice from a DataFrame\n",
      "\n",
      "See the caveats in the documentation: https://pandas.pydata.org/pandas-docs/stable/user_guide/indexing.html#returning-a-view-versus-a-copy\n",
      "  df_for_stray.dropna(inplace=True)\n"
     ]
    }
   ],
   "source": [
    "# Apply to your DataFrame\n",
    "df_for_stray = prepare_data_for_stray(df_679372_processed)  # Replace 'original_df' with your DataFrame variable"
   ]
  },
  {
   "cell_type": "markdown",
   "metadata": {},
   "source": [
    "## Step2: Train an Apply STRAY for Meal Detection\n",
    "\n",
    "STRAY is typically used to detect outliers, which in this case can signify unusual blood glucose changes related to meals.\n"
   ]
  },
  {
   "cell_type": "code",
   "execution_count": 64,
   "metadata": {},
   "outputs": [],
   "source": [
    "# setting up STRAY\n",
    "from sktime.annotation.stray import STRAY"
   ]
  },
  {
   "cell_type": "code",
   "execution_count": 67,
   "metadata": {},
   "outputs": [],
   "source": [
    "# Initialize STRAY for anomaly detection\n",
    "stray_model = STRAY()  # k is a parameter defining the number of neighbors, adjust based on data\n",
    "\n",
    "# Detect anomalies using fit_transform (not fit_predict)\n",
    "anomalies = stray_model.fit_transform(df_for_stray)"
   ]
  },
  {
   "cell_type": "code",
   "execution_count": 73,
   "metadata": {},
   "outputs": [
    {
     "data": {
      "text/html": [
       "<div>\n",
       "<style scoped>\n",
       "    .dataframe tbody tr th:only-of-type {\n",
       "        vertical-align: middle;\n",
       "    }\n",
       "\n",
       "    .dataframe tbody tr th {\n",
       "        vertical-align: top;\n",
       "    }\n",
       "\n",
       "    .dataframe thead th {\n",
       "        text-align: right;\n",
       "    }\n",
       "</style>\n",
       "<table border=\"1\" class=\"dataframe\">\n",
       "  <thead>\n",
       "    <tr style=\"text-align: right;\">\n",
       "      <th></th>\n",
       "      <th>0</th>\n",
       "    </tr>\n",
       "    <tr>\n",
       "      <th>date</th>\n",
       "      <th></th>\n",
       "    </tr>\n",
       "  </thead>\n",
       "  <tbody>\n",
       "    <tr>\n",
       "      <th>2024-07-01 18:53:25+00:00</th>\n",
       "      <td>True</td>\n",
       "    </tr>\n",
       "    <tr>\n",
       "      <th>2024-07-01 18:57:27+00:00</th>\n",
       "      <td>True</td>\n",
       "    </tr>\n",
       "    <tr>\n",
       "      <th>2024-07-01 19:00:27+00:00</th>\n",
       "      <td>True</td>\n",
       "    </tr>\n",
       "    <tr>\n",
       "      <th>2024-07-01 19:02:27+00:00</th>\n",
       "      <td>True</td>\n",
       "    </tr>\n",
       "    <tr>\n",
       "      <th>2024-07-01 19:04:28+00:00</th>\n",
       "      <td>True</td>\n",
       "    </tr>\n",
       "    <tr>\n",
       "      <th>...</th>\n",
       "      <td>...</td>\n",
       "    </tr>\n",
       "    <tr>\n",
       "      <th>2024-10-01 03:27:07+00:00</th>\n",
       "      <td>True</td>\n",
       "    </tr>\n",
       "    <tr>\n",
       "      <th>2024-10-01 03:30:09+00:00</th>\n",
       "      <td>True</td>\n",
       "    </tr>\n",
       "    <tr>\n",
       "      <th>2024-10-01 03:34:11+00:00</th>\n",
       "      <td>True</td>\n",
       "    </tr>\n",
       "    <tr>\n",
       "      <th>2024-10-01 03:47:20+00:00</th>\n",
       "      <td>True</td>\n",
       "    </tr>\n",
       "    <tr>\n",
       "      <th>2024-10-01 03:50:22+00:00</th>\n",
       "      <td>True</td>\n",
       "    </tr>\n",
       "  </tbody>\n",
       "</table>\n",
       "<p>1982 rows × 1 columns</p>\n",
       "</div>"
      ],
      "text/plain": [
       "                              0\n",
       "date                           \n",
       "2024-07-01 18:53:25+00:00  True\n",
       "2024-07-01 18:57:27+00:00  True\n",
       "2024-07-01 19:00:27+00:00  True\n",
       "2024-07-01 19:02:27+00:00  True\n",
       "2024-07-01 19:04:28+00:00  True\n",
       "...                         ...\n",
       "2024-10-01 03:27:07+00:00  True\n",
       "2024-10-01 03:30:09+00:00  True\n",
       "2024-10-01 03:34:11+00:00  True\n",
       "2024-10-01 03:47:20+00:00  True\n",
       "2024-10-01 03:50:22+00:00  True\n",
       "\n",
       "[1982 rows x 1 columns]"
      ]
     },
     "execution_count": 73,
     "metadata": {},
     "output_type": "execute_result"
    }
   ],
   "source": [
    "anomalies[anomalies[0]==True]"
   ]
  }
 ],
 "metadata": {
  "kernelspec": {
   "display_name": "Python 3",
   "language": "python",
   "name": "python3"
  },
  "language_info": {
   "codemirror_mode": {
    "name": "ipython",
    "version": 3
   },
   "file_extension": ".py",
   "mimetype": "text/x-python",
   "name": "python",
   "nbconvert_exporter": "python",
   "pygments_lexer": "ipython3",
   "version": "3.12.2"
  }
 },
 "nbformat": 4,
 "nbformat_minor": 2
}
