{
 "cells": [
  {
   "cell_type": "code",
   "execution_count": 54,
   "metadata": {},
   "outputs": [
    {
     "name": "stdout",
     "output_type": "stream",
     "text": [
      "Loaded DataFrames: ['500030_2024-07-01_2024-09-30.csv', '679372_2024-07-01_2024-09-30.csv']\n"
     ]
    }
   ],
   "source": [
    "import pandas as pd\n",
    "from sktime.forecasting.model_selection import temporal_train_test_split\n",
    "from sktime.transformations.panel.compose import ColumnConcatenator\n",
    "from sktime.classification.interval_based import TimeSeriesForestClassifier\n",
    "from sktime.datatypes import convert_to\n",
    "from sktime.datatypes._panel._convert import from_2d_array_to_nested\n",
    "from sklearn.preprocessing import OneHotEncoder\n",
    "import numpy as np\n",
    "import os\n",
    "\n",
    "'''\n",
    "The following code block is taken from Andrew's notebook on \n",
    "time series forest classifier :)\n",
    "'''\n",
    "# List all CSV files in the data/raw directory\n",
    "csv_files = [f for f in os.listdir('../data/raw') if f.endswith('.csv')]\n",
    "\n",
    "# ,date,sender_id,bgl,bgl_date_millis,text,template,msg_type,affects_fob,affects_iob,dose_units,food_g,food_glycemic_index,dose_automatic,fp_bgl,message_basal_change,__typename,trend\n",
    "# Define the columns to load\n",
    "columns_to_load = ['date', 'bgl', 'msg_type', 'affects_fob', 'affects_iob','dose_units','food_g','food_glycemic_index']\n",
    "\n",
    "# Load each CSV file into a DataFrame and store them in a dictionary\n",
    "dataframes = {file: pd.read_csv(os.path.join('../data/raw', file), usecols=columns_to_load, parse_dates=['date']) for file in csv_files}\n",
    "\n",
    "# Print the names of the loaded DataFrames\n",
    "print(\"Loaded DataFrames:\", list(dataframes.keys()))"
   ]
  },
  {
   "cell_type": "code",
   "execution_count": 55,
   "metadata": {},
   "outputs": [
    {
     "name": "stdout",
     "output_type": "stream",
     "text": [
      "Index(['date', 'bgl', 'msg_type', 'affects_fob', 'affects_iob', 'dose_units',\n",
      "       'food_g', 'food_glycemic_index'],\n",
      "      dtype='object')\n",
      "Index(['date', 'bgl', 'msg_type', 'affects_fob', 'affects_iob', 'dose_units',\n",
      "       'food_g', 'food_glycemic_index'],\n",
      "      dtype='object')\n"
     ]
    },
    {
     "data": {
      "text/html": [
       "<div>\n",
       "<style scoped>\n",
       "    .dataframe tbody tr th:only-of-type {\n",
       "        vertical-align: middle;\n",
       "    }\n",
       "\n",
       "    .dataframe tbody tr th {\n",
       "        vertical-align: top;\n",
       "    }\n",
       "\n",
       "    .dataframe thead th {\n",
       "        text-align: right;\n",
       "    }\n",
       "</style>\n",
       "<table border=\"1\" class=\"dataframe\">\n",
       "  <thead>\n",
       "    <tr style=\"text-align: right;\">\n",
       "      <th></th>\n",
       "      <th>date</th>\n",
       "      <th>bgl</th>\n",
       "      <th>msg_type</th>\n",
       "      <th>affects_fob</th>\n",
       "      <th>affects_iob</th>\n",
       "      <th>dose_units</th>\n",
       "      <th>food_g</th>\n",
       "      <th>food_glycemic_index</th>\n",
       "    </tr>\n",
       "  </thead>\n",
       "  <tbody>\n",
       "    <tr>\n",
       "      <th>256</th>\n",
       "      <td>2024-07-01 13:39:01.062000-04:00</td>\n",
       "      <td>135.0</td>\n",
       "      <td>ANNOUNCE_MEAL</td>\n",
       "      <td>True</td>\n",
       "      <td>False</td>\n",
       "      <td>0.0</td>\n",
       "      <td>22.0</td>\n",
       "      <td>0.5</td>\n",
       "    </tr>\n",
       "    <tr>\n",
       "      <th>275</th>\n",
       "      <td>2024-07-01 14:32:31.740000-04:00</td>\n",
       "      <td>157.0</td>\n",
       "      <td>ANNOUNCE_MEAL</td>\n",
       "      <td>True</td>\n",
       "      <td>False</td>\n",
       "      <td>0.0</td>\n",
       "      <td>22.0</td>\n",
       "      <td>0.5</td>\n",
       "    </tr>\n",
       "    <tr>\n",
       "      <th>308</th>\n",
       "      <td>2024-07-01 15:44:35.026000-04:00</td>\n",
       "      <td>223.0</td>\n",
       "      <td>ANNOUNCE_MEAL</td>\n",
       "      <td>True</td>\n",
       "      <td>False</td>\n",
       "      <td>0.0</td>\n",
       "      <td>22.0</td>\n",
       "      <td>0.5</td>\n",
       "    </tr>\n",
       "    <tr>\n",
       "      <th>718</th>\n",
       "      <td>2024-07-02 13:19:08.176000-04:00</td>\n",
       "      <td>102.0</td>\n",
       "      <td>ANNOUNCE_MEAL</td>\n",
       "      <td>True</td>\n",
       "      <td>False</td>\n",
       "      <td>0.0</td>\n",
       "      <td>40.0</td>\n",
       "      <td>0.5</td>\n",
       "    </tr>\n",
       "    <tr>\n",
       "      <th>849</th>\n",
       "      <td>2024-07-02 20:12:00.212000-04:00</td>\n",
       "      <td>97.0</td>\n",
       "      <td>ANNOUNCE_MEAL</td>\n",
       "      <td>True</td>\n",
       "      <td>False</td>\n",
       "      <td>NaN</td>\n",
       "      <td>15.0</td>\n",
       "      <td>0.5</td>\n",
       "    </tr>\n",
       "  </tbody>\n",
       "</table>\n",
       "</div>"
      ],
      "text/plain": [
       "                                 date    bgl       msg_type affects_fob  \\\n",
       "256  2024-07-01 13:39:01.062000-04:00  135.0  ANNOUNCE_MEAL        True   \n",
       "275  2024-07-01 14:32:31.740000-04:00  157.0  ANNOUNCE_MEAL        True   \n",
       "308  2024-07-01 15:44:35.026000-04:00  223.0  ANNOUNCE_MEAL        True   \n",
       "718  2024-07-02 13:19:08.176000-04:00  102.0  ANNOUNCE_MEAL        True   \n",
       "849  2024-07-02 20:12:00.212000-04:00   97.0  ANNOUNCE_MEAL        True   \n",
       "\n",
       "    affects_iob  dose_units  food_g  food_glycemic_index  \n",
       "256       False         0.0    22.0                  0.5  \n",
       "275       False         0.0    22.0                  0.5  \n",
       "308       False         0.0    22.0                  0.5  \n",
       "718       False         0.0    40.0                  0.5  \n",
       "849       False         NaN    15.0                  0.5  "
      ]
     },
     "execution_count": 55,
     "metadata": {},
     "output_type": "execute_result"
    }
   ],
   "source": [
    "print(dataframes['500030_2024-07-01_2024-09-30.csv'].columns)\n",
    "print(dataframes['679372_2024-07-01_2024-09-30.csv'].columns)\n",
    "dataframes['679372_2024-07-01_2024-09-30.csv'][dataframes['679372_2024-07-01_2024-09-30.csv']['msg_type'] == 'ANNOUNCE_MEAL'].head()\n"
   ]
  },
  {
   "cell_type": "code",
   "execution_count": 56,
   "metadata": {},
   "outputs": [
    {
     "data": {
      "text/plain": [
       "array(['NULL', 'DOSE_INSULIN', 'DOSE_BASAL_INSULIN', 'TEXT',\n",
       "       'ANNOUNCE_MEAL', 'INTERVENTION_SNACK', 'ANNOUNCE_EXERCISE',\n",
       "       'NEW_PEN', 'NEW_SENSOR', 'BGL_FP_READING', 'MEDICAL_TEST_RESULT'],\n",
       "      dtype=object)"
      ]
     },
     "execution_count": 56,
     "metadata": {},
     "output_type": "execute_result"
    }
   ],
   "source": [
    "df = dataframes['679372_2024-07-01_2024-09-30.csv']\n",
    "df = df.fillna(0)\n",
    "# replaces message type 0 with NULL\n",
    "df['msg_type'] = df['msg_type'].replace(0, 'NULL')\n",
    "df.head()\n",
    "df['msg_type'].unique()\n"
   ]
  },
  {
   "cell_type": "code",
   "execution_count": 57,
   "metadata": {},
   "outputs": [
    {
     "data": {
      "text/html": [
       "<div>\n",
       "<style scoped>\n",
       "    .dataframe tbody tr th:only-of-type {\n",
       "        vertical-align: middle;\n",
       "    }\n",
       "\n",
       "    .dataframe tbody tr th {\n",
       "        vertical-align: top;\n",
       "    }\n",
       "\n",
       "    .dataframe thead th {\n",
       "        text-align: right;\n",
       "    }\n",
       "</style>\n",
       "<table border=\"1\" class=\"dataframe\">\n",
       "  <thead>\n",
       "    <tr style=\"text-align: right;\">\n",
       "      <th></th>\n",
       "      <th>date</th>\n",
       "      <th>bgl</th>\n",
       "      <th>msg_type</th>\n",
       "      <th>affects_fob</th>\n",
       "      <th>affects_iob</th>\n",
       "      <th>dose_units</th>\n",
       "      <th>food_g</th>\n",
       "      <th>food_glycemic_index</th>\n",
       "    </tr>\n",
       "  </thead>\n",
       "  <tbody>\n",
       "  </tbody>\n",
       "</table>\n",
       "</div>"
      ],
      "text/plain": [
       "Empty DataFrame\n",
       "Columns: [date, bgl, msg_type, affects_fob, affects_iob, dose_units, food_g, food_glycemic_index]\n",
       "Index: []"
      ]
     },
     "execution_count": 57,
     "metadata": {},
     "output_type": "execute_result"
    }
   ],
   "source": [
    "df[df['msg_type'] == 0].head()\n"
   ]
  },
  {
   "cell_type": "code",
   "execution_count": 58,
   "metadata": {},
   "outputs": [],
   "source": [
    "'''\n",
    "df[msg_type].unique() returns the following:\n",
    "array([0, 'DOSE_INSULIN', 'DOSE_BASAL_INSULIN', 'TEXT', 'ANNOUNCE_MEAL',\n",
    "       'INTERVENTION_SNACK', 'ANNOUNCE_EXERCISE', 'NEW_PEN', 'NEW_SENSOR',\n",
    "       'BGL_FP_READING', 'MEDICAL_TEST_RESULT'], dtype=object)\n",
    "\n",
    "This block will one hot encode only the relevant categories for meal identification\n",
    "(in this case, 'ANNOUNCE_MEAL', 'INTERVENTION_SNACK', 'ANNOUNCE_EXERCISE', 'DOSE_INSULIN', 'DOSE_BASAL_INSULIN')\n",
    "\n",
    "Every other category will be encoded as NULL\n",
    "'''\n",
    "RELEVANT_MSG_TYPES = ['ANNOUNCE_MEAL', 'INTERVENTION_SNACK', 'ANNOUNCE_EXERCISE', 'DOSE_INSULIN', 'DOSE_BASAL_INSULIN']\n",
    "\n",
    "\n",
    "encoder = OneHotEncoder(categories='auto', sparse_output=False)\n",
    "encoded_data = encoder.fit_transform(df[['msg_type']])\n",
    "encoded_df = pd.DataFrame(encoded_data, columns=encoder.get_feature_names_out(['msg_type']))\n",
    "\n",
    "df = df.drop(columns=['msg_type'])\n",
    "df = pd.concat([df, encoded_df], axis=1)\n",
    "\n",
    "# checks if the column name contains 'msg_type' and does not contain any strings in RELEVANT_MSG_TYPES\n",
    "COLUMNS_TO_DROP = [col for col in df.columns if 'msg_type' in col and not any(msg_type in col for msg_type in RELEVANT_MSG_TYPES)]\n",
    "# drop irrelevant columns for the target variable\n",
    "df.drop(columns=COLUMNS_TO_DROP, inplace=True)\n",
    "\n"
   ]
  },
  {
   "cell_type": "code",
   "execution_count": null,
   "metadata": {},
   "outputs": [],
   "source": [
    "'''\n",
    "\n",
    "'''"
   ]
  }
 ],
 "metadata": {
  "kernelspec": {
   "display_name": "Python 3",
   "language": "python",
   "name": "python3"
  },
  "language_info": {
   "codemirror_mode": {
    "name": "ipython",
    "version": 3
   },
   "file_extension": ".py",
   "mimetype": "text/x-python",
   "name": "python",
   "nbconvert_exporter": "python",
   "pygments_lexer": "ipython3",
   "version": "3.11.4"
  }
 },
 "nbformat": 4,
 "nbformat_minor": 2
}
