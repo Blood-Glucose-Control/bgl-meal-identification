{
  "cells": [
    {
      "cell_type": "markdown",
      "metadata": {},
      "source": [
        "# Blood Glucose Control - EDA\n",
        "\n",
        "**Name:** *Faizaan Qureshi*\n",
        "\n"
      ]
    },
    {
      "cell_type": "markdown",
      "metadata": {},
      "source": [
        "### Import Data\n",
        "\n",
        "There are multiple data sets each corresponding to a person with diabetes. Please load the files into a single data set while retaining the ability to distinguish between the PWD. "
      ]
    },
    {
      "cell_type": "code",
      "execution_count": 9,
      "metadata": {},
      "outputs": [
        {
          "name": "stdout",
          "output_type": "stream",
          "text": [
            "First 5 rows of df1:\n",
            "                                date  sender_id    bgl  bgl_date_millis text  \\\n",
            "0   2024-05-01 00:00:27.029000-05:00        NaN  114.0              NaN  NaN   \n",
            "1   2024-05-01 00:05:27.183000-05:00        NaN  117.0              NaN  NaN   \n",
            "..                               ...        ...    ...              ...  ...   \n",
            "18  2024-05-01 01:30:27.753000-05:00        NaN  103.0              NaN  NaN   \n",
            "19  2024-05-01 01:35:27.524000-05:00        NaN  102.0              NaN  NaN   \n",
            "\n",
            "   template msg_type affects_fob affects_iob  dose_units  food_g  \\\n",
            "0       NaN      NaN         NaN         NaN         NaN     NaN   \n",
            "1       NaN      NaN         NaN         NaN         NaN     NaN   \n",
            "..      ...      ...         ...         ...         ...     ...   \n",
            "18      NaN      NaN         NaN         NaN         NaN     NaN   \n",
            "19      NaN      NaN         NaN         NaN         NaN     NaN   \n",
            "\n",
            "    food_glycemic_index dose_automatic  fp_bgl  message_basal_change  \\\n",
            "0                   NaN            NaN     NaN                   NaN   \n",
            "1                   NaN            NaN     NaN                   NaN   \n",
            "..                  ...            ...     ...                   ...   \n",
            "18                  NaN            NaN     NaN                   NaN   \n",
            "19                  NaN            NaN     NaN                   NaN   \n",
            "\n",
            "   __typename trend  \n",
            "0     Reading  FLAT  \n",
            "1     Reading  FLAT  \n",
            "..        ...   ...  \n",
            "18    Reading  FLAT  \n",
            "19    Reading  FLAT  \n",
            "\n",
            "[20 rows x 17 columns]\n",
            "\n",
            "\n",
            "First 5 rows of df2:\n",
            "                                date  sender_id    bgl  bgl_date_millis  \\\n",
            "0          2024-05-08 11:54:00-04:00   191150.0  132.0     1.717171e+12   \n",
            "1   2024-05-10 15:29:49.500000-04:00        NaN    NaN              NaN   \n",
            "..                               ...        ...    ...              ...   \n",
            "18         2024-05-12 20:08:59-04:00        NaN  101.0              NaN   \n",
            "19         2024-05-12 20:12:02-04:00        NaN   99.0              NaN   \n",
            "\n",
            "                  text template msg_type affects_fob affects_iob  dose_units  \\\n",
            "0   New bolus pen: 300      NaN  NEW_PEN       False       False         NaN   \n",
            "1                  NaN      NaN      NaN         NaN         NaN         NaN   \n",
            "..                 ...      ...      ...         ...         ...         ...   \n",
            "18                 NaN      NaN      NaN         NaN         NaN         NaN   \n",
            "19                 NaN      NaN      NaN         NaN         NaN         NaN   \n",
            "\n",
            "    food_g  food_glycemic_index dose_automatic  fp_bgl  message_basal_change  \\\n",
            "0      NaN                  NaN          False     NaN                   NaN   \n",
            "1      NaN                  NaN            NaN     NaN                   NaN   \n",
            "..     ...                  ...            ...     ...                   ...   \n",
            "18     NaN                  NaN            NaN     NaN                   NaN   \n",
            "19     NaN                  NaN            NaN     NaN                   NaN   \n",
            "\n",
            "   __typename trend  \n",
            "0     Message   NaN  \n",
            "1         NaN   NaN  \n",
            "..        ...   ...  \n",
            "18    Reading  FLAT  \n",
            "19    Reading  FLAT  \n",
            "\n",
            "[20 rows x 17 columns]\n"
          ]
        }
      ],
      "source": [
        "import pandas as pd\n",
        "import matplotlib.pyplot as plt\n",
        "\n",
        "df1 = pd.read_csv('../data/gluroo_500030.csv')\n",
        "df2 = pd.read_csv('../data/gluroo_679372.csv')\n",
        "\n",
        "print(\"First 5 rows of df1:\")\n",
        "print(df1.head(20))\n",
        "print(\"\\n\")\n",
        "\n",
        "print(\"First 5 rows of df2:\")\n",
        "print(df2.head(20))"
      ]
    },
    {
      "cell_type": "markdown",
      "metadata": {},
      "source": [
        "### Two Data Visualizations\n",
        "\n",
        "Create at least two visualizations that are of interest to you. They can be things that would be useful information for a PWD to know, or they could be useful for informing future modeling work. If you aren't sure what to visualize try recreating common diabetes data visualizations that you can find on the internet. "
      ]
    },
    {
      "cell_type": "code",
      "execution_count": null,
      "metadata": {},
      "outputs": [],
      "source": []
    },
    {
      "cell_type": "markdown",
      "metadata": {},
      "source": [
        "### Ask a question(s) about the data and/or diabetes!\n",
        "When creating the visualizations you probably had some questions about managing T1D. Ask some questions that might interest you and our diabetes experts will do their best to answer them for you! *Consider this an AMAA about diabetes.* \n",
        "\n",
        "1. [Question 1]\n",
        "2. [Question 2]"
      ]
    },
    {
      "cell_type": "markdown",
      "metadata": {},
      "source": [
        "### Final Task\n",
        "\n",
        "Thanks for showing interest in our project! We plan to incorporate the best/most interesting visualizations into a substack post in the future. \n",
        "\n",
        "Please remember to create a pull request with your updated template, don't forget to rename the file to something that we can identify you with, e.g: `eda_[your_name].ipynb`"
      ]
    }
  ],
  "metadata": {
    "kernelspec": {
      "display_name": "Python 3",
      "language": "python",
      "name": "python3"
    },
    "language_info": {
      "codemirror_mode": {
        "name": "ipython",
        "version": 3
      },
      "file_extension": ".py",
      "mimetype": "text/x-python",
      "name": "python",
      "nbconvert_exporter": "python",
      "pygments_lexer": "ipython3",
      "version": "3.10.11"
    }
  },
  "nbformat": 4,
  "nbformat_minor": 2
}
