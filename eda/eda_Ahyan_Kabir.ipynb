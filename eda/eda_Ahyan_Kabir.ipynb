{
  "cells": [
    {
      "cell_type": "markdown",
      "metadata": {},
      "source": [
        "# Blood Glucose Control - EDA\n",
        "\n",
        "**Name:** [Ahyan Kabir]\n",
        "\n"
      ]
    },
    {
      "cell_type": "markdown",
      "metadata": {},
      "source": [
        "### Import Data\n",
        "\n",
        "There are multiple data sets each corresponding to a person with diabetes. Please load the files into a single data set while retaining the ability to distinguish between the PWD. "
      ]
    },
    {
      "cell_type": "code",
      "execution_count": null,
      "metadata": {},
      "outputs": [],
      "source": [
        "import pandas as pd\n", 
        "# reading separate patient files\n", 
        "df1 = pd.read_csv('../data/gluroo_500030.csv')\n", 
        "df2 = pd.read_csv('../data/gluroo_679372.csv')\n", 
        "\n", 
        "# adding identifiers to distinguish between PWDs\n", 
        "df1['pwd_id'] = '500030'\n", 
        "df2['pwd_id'] = '679372'\n", 
        "\n", 
        "# combining dfs\n", 
        "df = pd.concat([df1, df2])\n", 
        "\n", 
        "# removing ignorable columns\n", 
        "df = df.drop(columns=['sender_id', 'message_basal_change'])\n"
      ]
    },
    {
      "cell_type": "markdown",
      "metadata": {},
      "source": [
        "### Two Data Visualizations\n",
        "\n",
        "Create at least two visualizations that are of interest to you. They can be things that would be useful information for a PWD to know, or they could be useful for informing future modeling work. If you aren't sure what to visualize try recreating common diabetes data visualizations that you can find on the internet. "
        "\n",
        "### Visualisation #1\n",
        "I initially wanted to compare bgl changes after automatic and manual insulin doses to understand how these methods differ in the modern day. However, since the patient data given does not contain automatic dosing, I decided to focus on visualizing the change in bgl from a meal to the highest bgl before the next meal.\n",
        "This change will be compared with the meal's carbohydrate content in a scatterplot to see how carbs affect bgl spikes.\n",
        "Purpose: could help improve automatic insulin regulation methods by allowing patients to input their next meal's carb count (modelling), and the device could inject the required amount of insulin based on the PWD's current bgl level and their bgl change trends after meals (useful for the PWD)."
      ]
    },
    {
      "cell_type": "code",
      "execution_count": null,
      "metadata": {},
      "outputs": [],
      "source": [


      ]
    },
    {
      "cell_type": "markdown",
      "metadata": {},
      "source": [
        "### Ask a question(s) about the data and/or diabetes!\n",
        "When creating the visualizations you probably had some questions about managing T1D. Ask some questions that might interest you and our diabetes experts will do their best to answer them for you! *Consider this an AMAA about diabetes.* \n",
        "\n",
        "1. [Question 1]\n",
        "2. [Question 2]"
      ]
    },
    {
      "cell_type": "markdown",
      "metadata": {},
      "source": [
        "### Final Task\n",
        "\n",
        "Thanks for showing interest in our project! We plan to incorporate the best/most interesting visualizations into a substack post in the future. \n",
        "\n",
        "Please remember to create a pull request with your updated template, don't forget to rename the file to something that we can identify you with, e.g: `eda_[your_name].ipynb`"
      ]
    }
  ],
  "metadata": {
    "language_info": {
      "name": "python"
    }
  },
  "nbformat": 4,
  "nbformat_minor": 2
}
