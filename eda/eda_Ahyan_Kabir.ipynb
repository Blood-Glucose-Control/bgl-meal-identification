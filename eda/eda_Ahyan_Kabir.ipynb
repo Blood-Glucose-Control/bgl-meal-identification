{
  "cells": [
    {
      "cell_type": "markdown",
      "metadata": {},
      "source": [
        "# Blood Glucose Control - EDA\n",
        "\n",
        "**Name:** [Ahyan Kabir]\n",
        "\n"
      ]
    },
    {
      "cell_type": "markdown",
      "metadata": {},
      "source": [
        "### Import Data\n",
        "\n",
        "There are multiple data sets each corresponding to a person with diabetes. Please load the files into a single data set while retaining the ability to distinguish between the PWD. "
      ]
    },
    {
      "cell_type": "code",
      "execution_count": null,
      "metadata": {},
      "outputs": [],
      "source": [
        "import pandas as pd\n", 
        "# reading separate patient files\n", 
        "df1 = pd.read_csv('../data/gluroo_500030.csv')\n", 
        "df2 = pd.read_csv('../data/gluroo_679372.csv')\n", 
        "\n", 
        "# adding identifiers to distinguish between PWDs\n", 
        "df1['pwd_id'] = '500030'\n", 
        "df2['pwd_id'] = '679372'\n", 
        "\n", 
        "# combining dfs\n", 
        "df = pd.concat([df1, df2])\n", 
        "\n", 
        "# removing ignorable columns\n", 
        "df = df.drop(columns=['sender_id', 'message_basal_change'])\n"
      ]
    },
    {
      "cell_type": "markdown",
      "metadata": {},
      "source": [
        "### Two Data Visualizations\n",
        "\n",
        "Create at least two visualizations that are of interest to you. They can be things that would be useful information for a PWD to know, or they could be useful for informing future modeling work. If you aren't sure what to visualize try recreating common diabetes data visualizations that you can find on the internet.\n",
        "\n",
        "**Visualisation #1**\n",
        "I initially wanted to compare bgl changes after automatic and manual insulin doses to understand how these methods differ in the modern day. However, since the patient data given does not contain automatic dosing, I decided to focus on visualizing the change in bgl from a meal to the highest bgl before the next meal. This change will be compared with the meal's carbohydrate content in a scatterplot to see how carbs affect bgl spikes.\n",
        "\n",
        "**Purpose:** could help improve automatic insulin regulation methods by allowing patients to input their next meal's carb count (modelling), and the device could inject the required amount of insulin based on the PWD's current bgl level and their bgl change trends after meals (useful for the PWD)."
      ]
    },
    {
      "cell_type": "code",
      "execution_count": null,
      "metadata": {},
      "outputs": [],
      "source": [
        "import matplotlib.pyplot as plt\n", 
        "\n", 
        "dfs = list([df1, df2])\n", 
        "pwd_ids = list(['500030', '679372'])\n", 
        "\n", 
        "def prepare_df(df):\n", 
        "  # clean data\n", 
        "  df = df.drop(columns=['sender_id', 'message_basal_change'])\n", 
        "\n", 
        "  # initialise column for containing the max bgl in between meals\n", 
        "  df['bgl_change_meals'] = None\n", 
        "\n", 
        "  # df for normal-GI (0.5) meal timestamps\n", 
        "  df_meals = df[(df['msg_type'] == 'ANNOUNCE_MEAL')]\n", 
        "\n", 
        "  # all indices of meal announcements\n", 
        "  indices = df_meals.index.tolist()\n", 
        "\n", 
        "  # iterating through all meal announcements to find change in bgl from a meal to the max bgl before the next meal\n", 
        "  for index in range(len(indices) - 1):\n", 
        "\n", 
        "    bgl_max = df_meals.loc[indices[index]:indices[index + 1], 'bgl'].max()\n", 
        "    bgl_change = bgl_max - df_meals.loc[indices[index], 'bgl']\n", 
        "\n", 
        "    df.at[indices[index], 'bgl_change_meals'] = bgl_change\n", 
        "\n", 
        "  return df\n", 
        "\n", 
        "for df, pwd in zip(dfs, pwd_ids):\n", 
        "\n", 
        "  df = prepare_df(df)\n", 
        "\n", 
        "  # plot formatting\n", 
        "  df.plot.scatter(x='food_g', y='bgl_change_meals', c='bgl_change_meals', cmap = 'viridis')\n", 
        "  plt.xlabel('Carbs in Meal (g)')\n", 
        "  plt.ylabel('Change in Blood Glucose Level (mg/dL)')\n", 
        "  plt.title('Carbs in Meal vs Change in Blood Glucose Level for PWD #' + pwd)\n"
      ]
    },
    {
      "cell_type": "markdown",
      "metadata": {},
      "source": [
         "**Interpretation & Takeaways**\n", 
        "\n", 
        "- Many meals are being accounted for through manual bolus insulin injections by the PWD (indicated by a change of 0).\n", 
        "- However, many meals may not be properly accounted for beforehand (indicated by a change >0).\n", 
        "- There is a lot of variability in the change after meals with the same carb level. Additionally, decreases in BGL after meals are not accounted for due to the setup of the scatterplot.\n", 
        "  - It would be much more informative to include a method to also account for minimums past the meal.\n", 
        "  - In addition, the interval for the maximum should not be until the next meal but rather a set amount of hours after each meal.\n", 
        "\n", 
        "**Follow-up:** Since this data makes it hard to assess how much insulin should be pumped before a meal of a certain carb content, it would be interesting to see how the data differs when **split into 3 categories:** Breakfast, Lunch, Dinner.\n", 
        "\n", 
        "**Visualisation #2** will take a look at the previous data but split into 3 general blocks of time in the day:\n", 
        "\n", 
        "- Breakfast: 0:00 to 9:59\n", 
        "- Lunch: 10:00 to 15:59\n", 
        "- Dinner: 16:00 to 23:59\n"       
      ]
    },
    {
          "cell_type": "code",
          "execution_count": null,
          "metadata": {},
          "outputs": [],
          "source": [
            "# defining meal time classifications\n", 
            "breakfast_start = pd.to_datetime('00:00').time()\n", 
            "breakfast_end = pd.to_datetime('09:59').time()\n", 
            "lunch_start = pd.to_datetime('10:00').time()\n", 
            "lunch_end = pd.to_datetime('15:59').time()\n", 
            "dinner_start = pd.to_datetime('16:00').time()\n", 
            "dinner_end = pd.to_datetime('23:59').time()\n", 
            "\n", 
            "for df, pwd in zip(dfs, pwd_ids):\n", 
            "  # find bgl_change after each meal as usual\n", 
            "  df = prepare_df(df)\n", 
            "\n", 
            "  # initialise column for containing the type of meal\n", 
            "  df['meal_type'] = None,\n", 
            "\n", 
            "  # set date strings to datetime values\n", 
            "  df['date'] = pd.to_datetime(df['date'], format = 'mixed')\n", 
            "  df_meals = df[df['msg_type'] == 'ANNOUNCE_MEAL'].copy()\n", 
            "  df_meals['date'] = pd.to_datetime(df_meals['date'], format = 'mixed')\n", 
            "\n", 
            "  # all indices of meal announcements\n", 
            "  indices = df_meals.index.tolist()\n", 
            "\n", 
            "  for index in range(len(indices) - 1):\n", 
            "    time = df_meals.loc[indices[index], 'date'].time()\n", 
            "\n", 
            "    if breakfast_start <= time <= breakfast_end:\n", 
            "        df.at[indices[index], 'meal_type'] = 'Breakfast'\n", 
            "    elif lunch_start <= time <= lunch_end:\n", 
            "        df.at[indices[index], 'meal_type'] = 'Lunch'\n", 
            "    elif dinner_start <= time <= dinner_end:\n", 
            "        df.at[indices[index], 'meal_type'] = 'Dinner'\n", 
            "\n", 
            "    df_bk = df[df['meal_type'] == 'Breakfast']\n", 
            "    df_ln = df[df['meal_type'] == 'Lunch']\n", 
            "    df_dn = df[df['meal_type'] == 'Dinner']\n", 
            "\n", 
            "  # Plotting in a 1x3 figure (x2)\n", 
            "  fig, axs = plt.subplots(1, 3, figsize=(9, 3))  # Adjust figsize as needed\n", 
            "  plt.tight_layout()\n", 
            "\n", 
            "  # for iteration\n", 
            "  meal_type = ['Breakfast', 'Lunch', 'Dinner']\n", 
            "  meal_dfs = [df_bk, df_ln, df_dn]\n", 
            "\n", 
            "  # plot for each subset of meal type\n", 
            "  for i, (df_sub, meal_type) in enumerate(zip(meal_dfs, meal_type)):\n", 
            "    ax = axs[i]  # Select subplot\n", 
            "    df_sub['bgl_change_meals'] = df['bgl_change_meals'].reindex(df_sub.index)\n", 
            "    df_sub.plot.scatter(x='food_g', y='bgl_change_meals', ax=ax, label=meal_type, color='blue')\n", 
            "    ax.set_title('PWD #' + pwd + ', ' + meal_type)\n", 
            "    ax.set_xlabel('Carbs in Meal (g)')\n", 
            "    ax.set_ylabel('Change in Blood Glucose Level (mg/dL)')\n", 
            "    ax.legend()\n"
          ]
        },
    {
      "cell_type": "markdown",
      "metadata": {},
      "source": [
        "### Ask a question(s) about the data and/or diabetes!\n",
        "When creating the visualizations you probably had some questions about managing T1D. Ask some questions that might interest you and our diabetes experts will do their best to answer them for you! *Consider this an AMAA about diabetes.* \n",
        "\n",
        "1. [Question 1]\n",
        "2. [Question 2]"
      ]
    },
    {
      "cell_type": "markdown",
      "metadata": {},
      "source": [
        "### Final Task\n",
        "\n",
        "Thanks for showing interest in our project! We plan to incorporate the best/most interesting visualizations into a substack post in the future. \n",
        "\n",
        "Please remember to create a pull request with your updated template, don't forget to rename the file to something that we can identify you with, e.g: `eda_[your_name].ipynb`"
      ]
    }
  ],
  "metadata": {
    "language_info": {
      "name": "python"
    }
  },
  "nbformat": 4,
  "nbformat_minor": 2
}
