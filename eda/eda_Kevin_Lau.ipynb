{
 "cells": [
  {
   "cell_type": "markdown",
   "metadata": {},
   "source": [
    "# Blood Glucose Control - EDA\n",
    "\n",
    "**Name:** Kevin Lau\n",
    "\n"
   ]
  },
  {
   "cell_type": "markdown",
   "metadata": {},
   "source": [
    "### Import Data\n",
    "\n",
    "There are multiple data sets each corresponding to a person with diabetes. Please load the files into a single data set while retaining the ability to distinguish between the PWD. "
   ]
  },
  {
   "cell_type": "code",
   "execution_count": 3,
   "metadata": {},
   "outputs": [
    {
     "name": "stdout",
     "output_type": "stream",
     "text": [
      "                 date  sender_id    bgl  bgl_date_millis text template  \\\n",
      "0 2024-05-01 00:00:27        NaN  114.0              NaN  NaN      NaN   \n",
      "1 2024-05-01 00:05:27        NaN  117.0              NaN  NaN      NaN   \n",
      "2 2024-05-01 00:10:26        NaN  113.0              NaN  NaN      NaN   \n",
      "3 2024-05-01 00:15:27        NaN  112.0              NaN  NaN      NaN   \n",
      "4 2024-05-01 00:20:27        NaN  113.0              NaN  NaN      NaN   \n",
      "\n",
      "  msg_type affects_fob affects_iob  dose_units  food_g  food_glycemic_index  \\\n",
      "0      NaN         NaN         NaN         NaN     NaN                  NaN   \n",
      "1      NaN         NaN         NaN         NaN     NaN                  NaN   \n",
      "2      NaN         NaN         NaN         NaN     NaN                  NaN   \n",
      "3      NaN         NaN         NaN         NaN     NaN                  NaN   \n",
      "4      NaN         NaN         NaN         NaN     NaN                  NaN   \n",
      "\n",
      "  dose_automatic  fp_bgl  message_basal_change __typename trend  patient_id  \\\n",
      "0            NaN     NaN                   NaN    Reading  FLAT      500030   \n",
      "1            NaN     NaN                   NaN    Reading  FLAT      500030   \n",
      "2            NaN     NaN                   NaN    Reading  FLAT      500030   \n",
      "3            NaN     NaN                   NaN    Reading  FLAT      500030   \n",
      "4            NaN     NaN                   NaN    Reading  FLAT      500030   \n",
      "\n",
      "  interval  \n",
      "0       05  \n",
      "1       05  \n",
      "2       05  \n",
      "3       05  \n",
      "4       05  \n"
     ]
    },
    {
     "name": "stderr",
     "output_type": "stream",
     "text": [
      "C:\\Users\\User\\AppData\\Local\\Temp\\ipykernel_42252\\3452621658.py:1: DeprecationWarning: \n",
      "Pyarrow will become a required dependency of pandas in the next major release of pandas (pandas 3.0),\n",
      "(to allow more performant data types, such as the Arrow string type, and better interoperability with other libraries)\n",
      "but was not found to be installed on your system.\n",
      "If this would cause problems for you,\n",
      "please provide us feedback at https://github.com/pandas-dev/pandas/issues/54466\n",
      "        \n",
      "  import pandas as pd\n"
     ]
    }
   ],
   "source": [
    "import pandas as pd\n",
    "\n",
    "# Load CSV files\n",
    "data_one= pd.read_csv('../data/gluroo_500030.csv')\n",
    "data_two = pd.read_csv('../data/gluroo_679372.csv')\n",
    "\n",
    "# Add Paitent ID Columns\n",
    "data_one['patient_id'] = 500030\n",
    "data_two['patient_id'] = 679372\n",
    "\n",
    "# Combine\n",
    "data = pd.concat([data_one, data_two])\n",
    "\n",
    "# Assuming 'date' is a string and you want to extract parts of it\n",
    "# Extract interval from the 27th to the 29th characters\n",
    "df['interval'] = df['date'].apply(lambda x: x[27:29]) # Trimming head as per your logic\n",
    "\n",
    "# Trim the tail and keep only the first 19 characters of the date\n",
    "df['date'] = df['date'].apply(lambda x: x[:19]) \n",
    "\n",
    "# Convert the 'date' column to a proper datetime object\n",
    "df['date'] = pd.to_datetime(df['date'], format='%Y-%m-%d %H:%M:%S')\n",
    "\n",
    "# Display the first few rows to check the results\n",
    "print(df.head())"
   ]
  },
  {
   "cell_type": "markdown",
   "metadata": {},
   "source": [
    "### Two Data Visualizations\n",
    "\n",
    "Create at least two visualizations that are of interest to you. They can be things that would be useful information for a PWD to know, or they could be useful for informing future modeling work. If you aren't sure what to visualize try recreating common diabetes data visualizations that you can find on the internet. "
   ]
  },
  {
   "cell_type": "code",
   "execution_count": null,
   "metadata": {},
   "outputs": [],
   "source": []
  },
  {
   "cell_type": "markdown",
   "metadata": {},
   "source": [
    "### Ask a question(s) about the data and/or diabetes!\n",
    "When creating the visualizations you probably had some questions about managing T1D. Ask some questions that might interest you and our diabetes experts will do their best to answer them for you! *Consider this an AMAA about diabetes.* \n",
    "\n",
    "1. [Question 1]\n",
    "2. [Question 2]"
   ]
  },
  {
   "cell_type": "markdown",
   "metadata": {},
   "source": [
    "### Final Task\n",
    "\n",
    "Thanks for showing interest in our project! We plan to incorporate the best/most interesting visualizations into a substack post in the future. \n",
    "\n",
    "Please remember to create a pull request with your updated template, don't forget to rename the file to something that we can identify you with, e.g: `eda_[your_name].ipynb`"
   ]
  },
  {
   "cell_type": "code",
   "execution_count": null,
   "metadata": {},
   "outputs": [],
   "source": []
  },
  {
   "cell_type": "code",
   "execution_count": null,
   "metadata": {},
   "outputs": [],
   "source": []
  }
 ],
 "metadata": {
  "kernelspec": {
   "display_name": "Python 3 (ipykernel)",
   "language": "python",
   "name": "python3"
  },
  "language_info": {
   "codemirror_mode": {
    "name": "ipython",
    "version": 3
   },
   "file_extension": ".py",
   "mimetype": "text/x-python",
   "name": "python",
   "nbconvert_exporter": "python",
   "pygments_lexer": "ipython3",
   "version": "3.10.11"
  }
 },
 "nbformat": 4,
 "nbformat_minor": 4
}
