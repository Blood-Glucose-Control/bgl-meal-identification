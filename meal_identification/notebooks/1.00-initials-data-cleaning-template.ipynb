{
 "cells": [
  {
   "cell_type": "markdown",
   "metadata": {},
   "source": [
    "# 1. Data Cleaning\n",
    "\n",
    "Now you're ready to do some analysis! Make sure that your project-specific environment is activated (you can check with which jupyter) and run jupyter notebook notebooks to open a Jupyter notebook in the notebooks/ folder. You can start by creating a new notebook and doing some exploratory data analysis. We often name notebooks with a scheme that looks like this:\n",
    "\n",
    "```\n",
    "0.01-pjb-data-source-1.ipynb\n",
    "```\n",
    "\n",
    "- `0.01` : Helps leep work in chronological order. The structure is `PHASE.NOTEBOOK`. `NOTEBOOK` is just the Nth notebook in that phase to be created. For phases of the project, we generally use a scheme like the following:\n",
    "\n",
    "    - `0` : Data exploration - often just for exploratory work\n",
    "    - `1` : Data cleaning and feature creation - often writes data to data/processed or data/interim\n",
    "    - `2` : Visualizations - often writes publication-ready viz to reports\n",
    "    - `3` : Modeling - training machine learning models\n",
    "    - `4` : Publication - Notebooks that get turned directly into reports\n",
    "\n",
    "- `pjb` : Your initials; this is helpful for knowing who created the notebook and prevents collisions from people working in the same notebook.\n",
    "- `data-source-1` : A description of what the notebook covers"
   ]
  }
 ],
 "metadata": {
  "kernelspec": {
   "display_name": "meal_identification",
   "language": "python",
   "name": "python3"
  },
  "language_info": {
   "name": "python",
   "version": "3.12.7"
  }
 },
 "nbformat": 4,
 "nbformat_minor": 2
}
