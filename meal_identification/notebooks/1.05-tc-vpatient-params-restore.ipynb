{
 "cells": [
  {
   "metadata": {},
   "cell_type": "markdown",
   "source": [
    "TODO: Some other notebooks from Christopher should generate all the params. Some columns are dropped and therefore need to be added back. \n",
    "Ideally, this notebook will merge with the one that is creating the csv files"
   ],
   "id": "7d14370de9d527ba"
  },
  {
   "metadata": {
    "ExecuteTime": {
     "end_time": "2025-01-10T01:54:03.380534Z",
     "start_time": "2025-01-10T01:54:03.361258Z"
    }
   },
   "cell_type": "code",
   "source": [
    "import pandas as pd\n",
    "import numpy as np\n",
    "\n",
    "original = '../data/external/vpatient_params_org.csv'\n",
    "org_params = pd.read_csv(original)\n",
    "\n",
    "modified = '../data/external/vpatient_params_sim.csv'\n",
    "mod_params = pd.read_csv(modified)\n",
    "\n",
    "only_in_original = [col for col in org_params.columns if col not in mod_params.columns]\n",
    "print(\"only_in_original: \", only_in_original)"
   ],
   "id": "e1667b81ca28faad",
   "outputs": [
    {
     "name": "stdout",
     "output_type": "stream",
     "text": [
      "only_in_original:  ['Name', 'i', 'x0_ 1', 'x0_ 2', 'x0_ 3', 'x0_ 4', 'x0_ 5', 'x0_ 6', 'x0_ 7', 'x0_ 8', 'x0_ 9', 'x0_10', 'x0_11', 'x0_12', 'x0_13', 'HEb', 'f', 'ke1', 'ke2', 'Fsnc', 'dosekempt', 'patient_history']\n"
     ]
    }
   ],
   "execution_count": 7
  },
  {
   "metadata": {},
   "cell_type": "markdown",
   "source": [
    "### Constants\n",
    "| Parameter       | Value  |\n",
    "|-----------------|--------|\n",
    "| HEb             | 0.6    |\n",
    "| f               | 0.9    |\n",
    "| ke1             | 0.0005 |\n",
    "| ke2             | 339    |\n",
    "| Fsnc            | 1      |\n",
    "| dosekempt       | 90000  |\n",
    "| patient_history | 0      |\n",
    "\n",
    "### Initial values\n",
    "| Parameter     | Value |\n",
    "|---------------|-------|\n",
    "| x0_ 1         | 0     |\n",
    "| x0_ 2         | 0     |\n",
    "| x0_ 3         | 0     |\n",
    "| x0_ 4         | ?     |\n",
    "| x0_ 5         | ?     |\n",
    "| x0_ 6         | ?     |\n",
    "| x0_ 7         | 0     |\n",
    "| x0_ 8         | ?     |\n",
    "| x0_ 9         | ?     |\n",
    "| x0_ 10        | ?     |\n",
    "| x0_ 11        | ?     |\n",
    "| x0_ 12        | ?     |\n",
    "| x0_ 13        | ?     |\n",
    "\n",
    "\n",
    "\n"
   ],
   "id": "6d31da11d3a269f"
  },
  {
   "metadata": {},
   "cell_type": "markdown",
   "source": "",
   "id": "4477ce86452b917c"
  },
  {
   "metadata": {
    "ExecuteTime": {
     "end_time": "2025-01-10T02:44:29.819183Z",
     "start_time": "2025-01-10T02:44:29.721496Z"
    }
   },
   "cell_type": "code",
   "source": [
    "adults = org_params[org_params['Name'].str.startswith('adult')]\n",
    "adults.describe()\n",
    "\n",
    "constant_cols = ['HEb', 'f', 'ke1', 'ke2', 'Fsnc', 'dosekempt', 'patient_history']\n",
    "state_cols = [col for col in adults.columns if col.startswith('x0_')]\n",
    "# Take the first 333 rows for now\n",
    "mod_params = mod_params[0:333].reset_index(drop=True)\n",
    "\n",
    "for idx, col in enumerate(state_cols):\n",
    "    min_val = adults[col].min()\n",
    "    max_val = adults[col].max()\n",
    "    mod_params[col] = np.random.uniform(low=min_val, high=max_val, size=len(mod_params))\n",
    "    \n",
    "mod_params['HEb'] = 0.6\n",
    "mod_params['f'] = 0.9\n",
    "mod_params['ke1'] = 0.0005\n",
    "mod_params['ke2'] = 339\n",
    "mod_params['Fsnc'] = 1\n",
    "mod_params['dosekempt'] = 90000\n",
    "mod_params['patient_history'] = 0\n",
    "mod_params['i'] = range(len(mod_params))\n",
    "# Off set each id by 10\n",
    "mod_params['Name'] = [f\"adult#{i:03d}\" for i in range(11, 11+len(mod_params))]\n",
    "\n",
    "combined_df = pd.concat([org_params, mod_params], axis=0, ignore_index=True)\n",
    "combined_df.to_csv('../data/external/vpatient_params_complete.csv', index=False)\n",
    "\n"
   ],
   "id": "abcbe634f1f29705",
   "outputs": [],
   "execution_count": 26
  },
  {
   "metadata": {},
   "cell_type": "markdown",
   "source": "",
   "id": "5e0caf52eeeb1859"
  }
 ],
 "metadata": {
  "kernelspec": {
   "display_name": "Python 3",
   "language": "python",
   "name": "python3"
  },
  "language_info": {
   "codemirror_mode": {
    "name": "ipython",
    "version": 2
   },
   "file_extension": ".py",
   "mimetype": "text/x-python",
   "name": "python",
   "nbconvert_exporter": "python",
   "pygments_lexer": "ipython2",
   "version": "2.7.6"
  }
 },
 "nbformat": 4,
 "nbformat_minor": 5
}
