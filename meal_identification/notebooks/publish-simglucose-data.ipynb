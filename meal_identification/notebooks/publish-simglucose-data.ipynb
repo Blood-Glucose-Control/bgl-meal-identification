{
 "cells": [
  {
   "cell_type": "markdown",
   "id": "4d5d0d9f",
   "metadata": {},
   "source": [
    "## Import all the packages"
   ]
  },
  {
   "cell_type": "code",
   "execution_count": 51,
   "id": "e2a70d88",
   "metadata": {},
   "outputs": [],
   "source": [
    "import os\n",
    "from meal_identification.datasets.dataset_operations import get_root_dir\n",
    "from meal_identification.datasets.dataset_data_obfuscator import start as obfuscate\n",
    "from meal_identification.datasets.dataset_glucose_simulator import generate_simulated_data\n",
    "from datetime import datetime\n",
    "import matplotlib\n",
    "from sklearn.model_selection import ParameterGrid\n",
    "# Set the backend to Agg to avoid displaying plots. I think the plot is blocking the thread.\n",
    "matplotlib.use('Agg') \n"
   ]
  },
  {
   "cell_type": "markdown",
   "id": "7517bfb8",
   "metadata": {},
   "source": [
    "## Configure patients to simulate\n",
    "We now have 10 patients for each age group (adult, adolescent, child). <br>\n",
    "2 CGMs (Dexcom, GuardianRT) <br>\n",
    "2 insulin pumps (Cozmo, Insulet)\n",
    "\n",
    "\n",
    "## Adjust parameters:\n",
    "1. num_patients: number of patients in each category (adult, adolescent, child) to simulate\n",
    "2. simulation_days: number of days to simulate for each patient\n",
    "\n",
    "TODO:TONY - Once we have more patients, we can adjust the categories."
   ]
  },
  {
   "cell_type": "code",
   "execution_count": 52,
   "id": "7f6f215d",
   "metadata": {},
   "outputs": [
    {
     "name": "stdout",
     "output_type": "stream",
     "text": [
      "There are 18 different unique patient profiles\n",
      "Each patient profile will be simulated for 3 days\n",
      "patient names: ['adult#001', 'adolescent#001', 'child#001']\n"
     ]
    }
   ],
   "source": [
    "patient_prefix = ['adult', 'adolescent', 'child']\n",
    "cgms = [ \"Dexcom\" , \"GuardianRT\" , \"Navigator\"]\n",
    "insulin_pump_name = [\"Cozmo\", \"Insulet\"]\n",
    "num_patients = 1\n",
    "simulation_days = 3\n",
    "\n",
    "patient_names = []\n",
    "for prefix in patient_prefix:\n",
    "    for num in range(1, num_patients+1):\n",
    "        name = f'{prefix}#{num:03}'\n",
    "        patient_names.append(name)\n",
    "\n",
    "param_grid = {\n",
    "    'cgms': cgms,\n",
    "    'insulin_pump_name': insulin_pump_name,\n",
    "    # 'patient_names': patient_names\n",
    "}\n",
    "grid = list(ParameterGrid(param_grid))\n",
    "\n",
    "print(\"There are {} different unique patient profiles\".format(len(grid) * len(patient_names)))\n",
    "print(\"Each patient profile will be simulated for {} days\".format(simulation_days))\n",
    "print(\"patient names: {}\".format(patient_names))"
   ]
  },
  {
   "cell_type": "markdown",
   "id": "b5f5ec5c",
   "metadata": {},
   "source": [
    "## Run the simulation\n",
    "Data will be saved to meal_identification/data/simglucose/{start_time}\n"
   ]
  },
  {
   "cell_type": "code",
   "execution_count": 55,
   "id": "56c40989",
   "metadata": {},
   "outputs": [
    {
     "name": "stdout",
     "output_type": "stream",
     "text": [
      "{'cgms': 'Dexcom', 'insulin_pump_name': 'Cozmo'}\n",
      "Process ID: 61345\n",
      "Simulation starts ...\n",
      "Simulation Completed!\n",
      "Simulation took 8.868818998336792 sec.\n"
     ]
    },
    {
     "name": "stderr",
     "output_type": "stream",
     "text": [
      "/Users/tonychan/opt/anaconda3/envs/meal_identification/lib/python3.12/site-packages/simglucose/analysis/report.py:275: UserWarning: FigureCanvasAgg is non-interactive, and thus cannot be shown\n",
      "  plt.show()\n"
     ]
    },
    {
     "name": "stdout",
     "output_type": "stream",
     "text": [
      "Simulation for adult#001 completed!\n",
      "Process ID: 61345\n",
      "Simulation starts ...\n",
      "Simulation Completed!\n",
      "Simulation took 8.76187515258789 sec.\n"
     ]
    },
    {
     "name": "stderr",
     "output_type": "stream",
     "text": [
      "/Users/tonychan/opt/anaconda3/envs/meal_identification/lib/python3.12/site-packages/simglucose/analysis/report.py:275: UserWarning: FigureCanvasAgg is non-interactive, and thus cannot be shown\n",
      "  plt.show()\n"
     ]
    },
    {
     "name": "stdout",
     "output_type": "stream",
     "text": [
      "Simulation for adolescent#001 completed!\n",
      "Process ID: 61345\n",
      "Simulation starts ...\n",
      "Simulation Completed!\n",
      "Simulation took 9.309401035308838 sec.\n"
     ]
    },
    {
     "name": "stderr",
     "output_type": "stream",
     "text": [
      "/Users/tonychan/opt/anaconda3/envs/meal_identification/lib/python3.12/site-packages/simglucose/analysis/report.py:275: UserWarning: FigureCanvasAgg is non-interactive, and thus cannot be shown\n",
      "  plt.show()\n"
     ]
    },
    {
     "name": "stdout",
     "output_type": "stream",
     "text": [
      "Simulation for child#001 completed!\n",
      "Random seeds:  [574, 638, 623]\n",
      "Successfully processed and saved ado001_Dexcom_Cozmo_2025-05-07_2025-05-10.csv\n",
      "Successfully processed and saved adu001_Dexcom_Cozmo_2025-05-07_2025-05-10.csv\n",
      "Successfully processed and saved chi001_Dexcom_Cozmo_2025-05-07_2025-05-10.csv\n",
      "{'cgms': 'Dexcom', 'insulin_pump_name': 'Insulet'}\n",
      "Process ID: 61345\n",
      "Simulation starts ...\n",
      "Simulation Completed!\n",
      "Simulation took 10.59079098701477 sec.\n"
     ]
    },
    {
     "name": "stderr",
     "output_type": "stream",
     "text": [
      "/Users/tonychan/opt/anaconda3/envs/meal_identification/lib/python3.12/site-packages/simglucose/analysis/report.py:275: UserWarning: FigureCanvasAgg is non-interactive, and thus cannot be shown\n",
      "  plt.show()\n"
     ]
    },
    {
     "name": "stdout",
     "output_type": "stream",
     "text": [
      "Simulation for adult#001 completed!\n",
      "Process ID: 61345\n",
      "Simulation starts ...\n",
      "Simulation Completed!\n",
      "Simulation took 8.945523262023926 sec.\n"
     ]
    },
    {
     "name": "stderr",
     "output_type": "stream",
     "text": [
      "/Users/tonychan/opt/anaconda3/envs/meal_identification/lib/python3.12/site-packages/simglucose/analysis/report.py:275: UserWarning: FigureCanvasAgg is non-interactive, and thus cannot be shown\n",
      "  plt.show()\n"
     ]
    },
    {
     "name": "stdout",
     "output_type": "stream",
     "text": [
      "Simulation for adolescent#001 completed!\n",
      "Process ID: 61345\n",
      "Simulation starts ...\n",
      "Simulation Completed!\n",
      "Simulation took 8.960730791091919 sec.\n"
     ]
    },
    {
     "name": "stderr",
     "output_type": "stream",
     "text": [
      "/Users/tonychan/opt/anaconda3/envs/meal_identification/lib/python3.12/site-packages/simglucose/analysis/report.py:275: UserWarning: FigureCanvasAgg is non-interactive, and thus cannot be shown\n",
      "  plt.show()\n"
     ]
    },
    {
     "name": "stdout",
     "output_type": "stream",
     "text": [
      "Simulation for child#001 completed!\n",
      "Random seeds:  [344, 181, 677]\n",
      "Successfully processed and saved ado001_Dexcom_Insulet_2025-05-07_2025-05-10.csv\n",
      "Successfully processed and saved adu001_Dexcom_Insulet_2025-05-07_2025-05-10.csv\n",
      "Successfully processed and saved chi001_Dexcom_Insulet_2025-05-07_2025-05-10.csv\n",
      "{'cgms': 'GuardianRT', 'insulin_pump_name': 'Cozmo'}\n",
      "Process ID: 61345\n",
      "Simulation starts ...\n",
      "Simulation Completed!\n",
      "Simulation took 8.218989133834839 sec.\n"
     ]
    },
    {
     "name": "stderr",
     "output_type": "stream",
     "text": [
      "/Users/tonychan/opt/anaconda3/envs/meal_identification/lib/python3.12/site-packages/simglucose/analysis/report.py:275: UserWarning: FigureCanvasAgg is non-interactive, and thus cannot be shown\n",
      "  plt.show()\n"
     ]
    },
    {
     "name": "stdout",
     "output_type": "stream",
     "text": [
      "Simulation for adult#001 completed!\n",
      "Process ID: 61345\n",
      "Simulation starts ...\n",
      "Simulation Completed!\n",
      "Simulation took 8.752824068069458 sec.\n"
     ]
    },
    {
     "name": "stderr",
     "output_type": "stream",
     "text": [
      "/Users/tonychan/opt/anaconda3/envs/meal_identification/lib/python3.12/site-packages/simglucose/analysis/report.py:275: UserWarning: FigureCanvasAgg is non-interactive, and thus cannot be shown\n",
      "  plt.show()\n"
     ]
    },
    {
     "name": "stdout",
     "output_type": "stream",
     "text": [
      "Simulation for adolescent#001 completed!\n",
      "Process ID: 61345\n",
      "Simulation starts ...\n",
      "Simulation Completed!\n",
      "Simulation took 8.705038070678711 sec.\n"
     ]
    },
    {
     "name": "stderr",
     "output_type": "stream",
     "text": [
      "/Users/tonychan/opt/anaconda3/envs/meal_identification/lib/python3.12/site-packages/simglucose/analysis/report.py:275: UserWarning: FigureCanvasAgg is non-interactive, and thus cannot be shown\n",
      "  plt.show()\n"
     ]
    },
    {
     "name": "stdout",
     "output_type": "stream",
     "text": [
      "Simulation for child#001 completed!\n",
      "Random seeds:  [875, 187, 21]\n",
      "Successfully processed and saved ado001_GuardianRT_Cozmo_2025-05-07_2025-05-10.csv\n",
      "Successfully processed and saved adu001_GuardianRT_Cozmo_2025-05-07_2025-05-10.csv\n",
      "Successfully processed and saved chi001_GuardianRT_Cozmo_2025-05-07_2025-05-10.csv\n",
      "{'cgms': 'GuardianRT', 'insulin_pump_name': 'Insulet'}\n",
      "Process ID: 61345\n",
      "Simulation starts ...\n",
      "Simulation Completed!\n",
      "Simulation took 8.616605758666992 sec.\n"
     ]
    },
    {
     "name": "stderr",
     "output_type": "stream",
     "text": [
      "/Users/tonychan/opt/anaconda3/envs/meal_identification/lib/python3.12/site-packages/simglucose/analysis/report.py:275: UserWarning: FigureCanvasAgg is non-interactive, and thus cannot be shown\n",
      "  plt.show()\n"
     ]
    },
    {
     "name": "stdout",
     "output_type": "stream",
     "text": [
      "Simulation for adult#001 completed!\n",
      "Process ID: 61345\n",
      "Simulation starts ...\n",
      "Simulation Completed!\n",
      "Simulation took 8.342292070388794 sec.\n"
     ]
    },
    {
     "name": "stderr",
     "output_type": "stream",
     "text": [
      "/Users/tonychan/opt/anaconda3/envs/meal_identification/lib/python3.12/site-packages/simglucose/analysis/report.py:275: UserWarning: FigureCanvasAgg is non-interactive, and thus cannot be shown\n",
      "  plt.show()\n"
     ]
    },
    {
     "name": "stdout",
     "output_type": "stream",
     "text": [
      "Simulation for adolescent#001 completed!\n",
      "Process ID: 61345\n",
      "Simulation starts ...\n",
      "Simulation Completed!\n",
      "Simulation took 8.6754629611969 sec.\n"
     ]
    },
    {
     "name": "stderr",
     "output_type": "stream",
     "text": [
      "/Users/tonychan/opt/anaconda3/envs/meal_identification/lib/python3.12/site-packages/simglucose/analysis/report.py:275: UserWarning: FigureCanvasAgg is non-interactive, and thus cannot be shown\n",
      "  plt.show()\n"
     ]
    },
    {
     "name": "stdout",
     "output_type": "stream",
     "text": [
      "Simulation for child#001 completed!\n",
      "Random seeds:  [801, 69, 617]\n",
      "Successfully processed and saved ado001_GuardianRT_Insulet_2025-05-07_2025-05-10.csv\n",
      "Successfully processed and saved adu001_GuardianRT_Insulet_2025-05-07_2025-05-10.csv\n",
      "Successfully processed and saved chi001_GuardianRT_Insulet_2025-05-07_2025-05-10.csv\n",
      "{'cgms': 'Navigator', 'insulin_pump_name': 'Cozmo'}\n",
      "Process ID: 61345\n",
      "Simulation starts ...\n",
      "Simulation Completed!\n",
      "Simulation took 11.682717323303223 sec.\n"
     ]
    },
    {
     "name": "stderr",
     "output_type": "stream",
     "text": [
      "/Users/tonychan/opt/anaconda3/envs/meal_identification/lib/python3.12/site-packages/simglucose/analysis/report.py:275: UserWarning: FigureCanvasAgg is non-interactive, and thus cannot be shown\n",
      "  plt.show()\n"
     ]
    },
    {
     "name": "stdout",
     "output_type": "stream",
     "text": [
      "Simulation for adult#001 completed!\n",
      "Process ID: 61345\n",
      "Simulation starts ...\n",
      "Simulation Completed!\n",
      "Simulation took 11.22435712814331 sec.\n"
     ]
    },
    {
     "name": "stderr",
     "output_type": "stream",
     "text": [
      "/Users/tonychan/opt/anaconda3/envs/meal_identification/lib/python3.12/site-packages/simglucose/analysis/report.py:275: UserWarning: FigureCanvasAgg is non-interactive, and thus cannot be shown\n",
      "  plt.show()\n"
     ]
    },
    {
     "name": "stdout",
     "output_type": "stream",
     "text": [
      "Simulation for adolescent#001 completed!\n",
      "Process ID: 61345\n",
      "Simulation starts ...\n",
      "Simulation Completed!\n",
      "Simulation took 11.651479959487915 sec.\n"
     ]
    },
    {
     "name": "stderr",
     "output_type": "stream",
     "text": [
      "/Users/tonychan/opt/anaconda3/envs/meal_identification/lib/python3.12/site-packages/simglucose/analysis/report.py:275: UserWarning: FigureCanvasAgg is non-interactive, and thus cannot be shown\n",
      "  plt.show()\n"
     ]
    },
    {
     "name": "stdout",
     "output_type": "stream",
     "text": [
      "Simulation for child#001 completed!\n",
      "Random seeds:  [174, 985, 167]\n",
      "Successfully processed and saved ado001_Navigator_Cozmo_2025-05-07_2025-05-10.csv\n",
      "Successfully processed and saved adu001_Navigator_Cozmo_2025-05-07_2025-05-10.csv\n",
      "Successfully processed and saved chi001_Navigator_Cozmo_2025-05-07_2025-05-10.csv\n",
      "{'cgms': 'Navigator', 'insulin_pump_name': 'Insulet'}\n",
      "Process ID: 61345\n",
      "Simulation starts ...\n",
      "Simulation Completed!\n",
      "Simulation took 11.609791994094849 sec.\n"
     ]
    },
    {
     "name": "stderr",
     "output_type": "stream",
     "text": [
      "/Users/tonychan/opt/anaconda3/envs/meal_identification/lib/python3.12/site-packages/simglucose/analysis/report.py:275: UserWarning: FigureCanvasAgg is non-interactive, and thus cannot be shown\n",
      "  plt.show()\n"
     ]
    },
    {
     "name": "stdout",
     "output_type": "stream",
     "text": [
      "Simulation for adult#001 completed!\n",
      "Process ID: 61345\n",
      "Simulation starts ...\n",
      "Simulation Completed!\n",
      "Simulation took 11.429826259613037 sec.\n"
     ]
    },
    {
     "name": "stderr",
     "output_type": "stream",
     "text": [
      "/Users/tonychan/opt/anaconda3/envs/meal_identification/lib/python3.12/site-packages/simglucose/analysis/report.py:275: UserWarning: FigureCanvasAgg is non-interactive, and thus cannot be shown\n",
      "  plt.show()\n"
     ]
    },
    {
     "name": "stdout",
     "output_type": "stream",
     "text": [
      "Simulation for adolescent#001 completed!\n",
      "Process ID: 61345\n",
      "Simulation starts ...\n",
      "Simulation Completed!\n",
      "Simulation took 12.545458316802979 sec.\n"
     ]
    },
    {
     "name": "stderr",
     "output_type": "stream",
     "text": [
      "/Users/tonychan/opt/anaconda3/envs/meal_identification/lib/python3.12/site-packages/simglucose/analysis/report.py:275: UserWarning: FigureCanvasAgg is non-interactive, and thus cannot be shown\n",
      "  plt.show()\n"
     ]
    },
    {
     "name": "stdout",
     "output_type": "stream",
     "text": [
      "Simulation for child#001 completed!\n",
      "Random seeds:  [267, 374, 259]\n",
      "Successfully processed and saved ado001_Navigator_Insulet_2025-05-07_2025-05-10.csv\n",
      "Successfully processed and saved adu001_Navigator_Insulet_2025-05-07_2025-05-10.csv\n",
      "Successfully processed and saved chi001_Navigator_Insulet_2025-05-07_2025-05-10.csv\n",
      "Total patients: 18\n",
      "Successfully processed and saved ado001_Dexcom_Cozmo_2025-05-07_2025-05-10_full_early.csv\n",
      "Successfully processed and saved chi001_Dexcom_Cozmo_2025-05-07_2025-05-10_top2_early.csv\n",
      "Successfully processed and saved ado001_GuardianRT_Cozmo_2025-05-07_2025-05-10_none_late.csv\n",
      "Successfully processed and saved adu001_Dexcom_Cozmo_2025-05-07_2025-05-10_weekly_early.csv\n",
      "Successfully processed and saved ado001_GuardianRT_Insulet_2025-05-07_2025-05-10_top2_average.csv\n",
      "Successfully processed and saved chi001_GuardianRT_Cozmo_2025-05-07_2025-05-10_full_average.csv\n",
      "Successfully processed and saved adu001_GuardianRT_Insulet_2025-05-07_2025-05-10_once_early.csv\n",
      "Successfully processed and saved ado001_Navigator_Cozmo_2025-05-07_2025-05-10_top2_average.csv\n",
      "Successfully processed and saved adu001_Dexcom_Insulet_2025-05-07_2025-05-10_top2_late.csv\n",
      "Successfully processed and saved adu001_Navigator_Cozmo_2025-05-07_2025-05-10_top2_late.csv\n",
      "Successfully processed and saved chi001_Dexcom_Insulet_2025-05-07_2025-05-10_none_average.csv\n",
      "Successfully processed and saved adu001_GuardianRT_Cozmo_2025-05-07_2025-05-10_once_average.csv\n",
      "Successfully processed and saved chi001_Navigator_Cozmo_2025-05-07_2025-05-10_once_average.csv\n",
      "Successfully processed and saved chi001_Navigator_Insulet_2025-05-07_2025-05-10_full_average.csv\n",
      "Successfully processed and saved ado001_Navigator_Insulet_2025-05-07_2025-05-10_once_early.csv\n",
      "Successfully processed and saved adu001_Navigator_Insulet_2025-05-07_2025-05-10_once_late.csv\n",
      "Successfully processed and saved ado001_Dexcom_Insulet_2025-05-07_2025-05-10_none_early.csv\n",
      "Successfully processed and saved chi001_GuardianRT_Insulet_2025-05-07_2025-05-10_once_average.csv\n",
      "Total file processed: 18\n",
      "Done generating and obfuscating data\n"
     ]
    }
   ],
   "source": [
    "project_root = get_root_dir()\n",
    "start_time = datetime.now().isoformat()\n",
    "data_dir = os.path.join(project_root, 'meal_identification', 'data', 'simglucose', start_time)\n",
    "\n",
    "# Run the simulation and save the data to data_dir/sim and process it to data_dir/inter\n",
    "# Default start date is '2024-01-01 00:00:00'\n",
    "# All the data will be saved to meal_identification/data/simglucose/{start_time}\n",
    "for params in grid:\n",
    "    print(params)\n",
    "    # Run the simulation and save the data to data_dir/sim and process it to data_dir/inter\n",
    "    generate_simulated_data(\n",
    "        simulation_days=simulation_days,\n",
    "        patient_names=patient_names,\n",
    "        cgm_name=params['cgms'],\n",
    "        insulin_pump_name=params['insulin_pump_name'],\n",
    "        data_dir=data_dir,\n",
    "        parallel=True\n",
    "    )\n",
    "\n",
    "# Obfuscate all the data in data_dir/inter and save it to data_dir/obfuscated\n",
    "obfuscate(\n",
    "    from_dir=os.path.join(data_dir, 'inter'),\n",
    "    to_dir=os.path.join(data_dir, 'obfuscated')\n",
    ")\n",
    "\n",
    "print(\"Done generating and obfuscating data\")"
   ]
  },
  {
   "cell_type": "markdown",
   "id": "f9eaedc2",
   "metadata": {},
   "source": [
    "## Push to HuggingFace\n",
    "Update all the obfuscated data to HuggingFace"
   ]
  },
  {
   "cell_type": "code",
   "execution_count": 56,
   "id": "b2f60702",
   "metadata": {},
   "outputs": [
    {
     "name": "stdout",
     "output_type": "stream",
     "text": [
      "folder_path:  /Users/tonychan/GlucoseML/bgl-meal-identification/meal_identification/data/simglucose/2025-05-07T01:49:50.246750/obfuscated\n"
     ]
    }
   ],
   "source": [
    "from huggingface_hub import HfApi\n",
    "\n",
    "repo_id = \"Blood-Glucose-Control/t1d-cpd-benchmark-datasets\"\n",
    "folder_path = os.path.join(data_dir, 'obfuscated')\n",
    "print(\"folder_path: \", folder_path)"
   ]
  },
  {
   "cell_type": "code",
   "execution_count": null,
   "id": "15c070a5",
   "metadata": {},
   "outputs": [
    {
     "data": {
      "text/plain": [
       "CommitInfo(commit_url='https://huggingface.co/datasets/Blood-Glucose-Control/t1d-cpd-benchmark-datasets/commit/a2934eb103dfe26d92e55afd186886ecb8274123', commit_message='Upload folder using huggingface_hub', commit_description='', oid='a2934eb103dfe26d92e55afd186886ecb8274123', pr_url=None, repo_url=RepoUrl('https://huggingface.co/datasets/Blood-Glucose-Control/t1d-cpd-benchmark-datasets', endpoint='https://huggingface.co', repo_type='dataset', repo_id='Blood-Glucose-Control/t1d-cpd-benchmark-datasets'), pr_revision=None, pr_num=None)"
      ]
     },
     "execution_count": 63,
     "metadata": {},
     "output_type": "execute_result"
    }
   ],
   "source": [
    "from dotenv import load_dotenv\n",
    "load_dotenv()\n",
    "api = HfApi(token=os.getenv(\"HF_TOKEN\"))\n",
    "api.upload_folder(\n",
    "    folder_path=folder_path,\n",
    "    repo_id=repo_id,\n",
    "    repo_type=\"dataset\",\n",
    ")"
   ]
  }
 ],
 "metadata": {
  "kernelspec": {
   "display_name": "meal_identification",
   "language": "python",
   "name": "python3"
  },
  "language_info": {
   "codemirror_mode": {
    "name": "ipython",
    "version": 3
   },
   "file_extension": ".py",
   "mimetype": "text/x-python",
   "name": "python",
   "nbconvert_exporter": "python",
   "pygments_lexer": "ipython3",
   "version": "3.12.7"
  }
 },
 "nbformat": 4,
 "nbformat_minor": 5
}
